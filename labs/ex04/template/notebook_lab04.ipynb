{
  "cells": [
    {
      "cell_type": "code",
      "execution_count": 1,
      "metadata": {
        "id": "cvXlYnbIvbak",
        "outputId": "8a6b86f5-4f22-460e-e35b-5517670ed0f5",
        "colab": {
          "base_uri": "https://localhost:8080/"
        }
      },
      "outputs": [
        {
          "output_type": "stream",
          "name": "stdout",
          "text": [
            "Cloning into 'cloned-repo'...\n",
            "warning: --local is ignored\n",
            "remote: Enumerating objects: 2652, done.\u001b[K\n",
            "remote: Counting objects: 100% (178/178), done.\u001b[K\n",
            "remote: Compressing objects: 100% (71/71), done.\u001b[K\n",
            "remote: Total 2652 (delta 130), reused 136 (delta 106), pack-reused 2474 (from 3)\u001b[K\n",
            "Receiving objects: 100% (2652/2652), 483.74 MiB | 22.81 MiB/s, done.\n",
            "Resolving deltas: 100% (1310/1310), done.\n",
            "/content/cloned-repo/labs/ex04/template\n"
          ]
        }
      ],
      "source": [
        "# Useful starting lines\n",
        "%matplotlib inline\n",
        "import numpy as np\n",
        "import matplotlib.pyplot as plt\n",
        "try:\n",
        "    import google.colab\n",
        "    IN_COLAB = True\n",
        "except:\n",
        "    IN_COLAB = False\n",
        "if IN_COLAB:\n",
        "    # Clone the entire repo to access the files.\n",
        "    !git clone -l -s https://github.com/epfml/OptML_course.git cloned-repo\n",
        "    %cd cloned-repo/labs/ex04/template/\n",
        "\n",
        "from helpers import *\n",
        "%load_ext autoreload\n",
        "%autoreload 2"
      ]
    },
    {
      "cell_type": "markdown",
      "metadata": {
        "id": "pnHrfvqFvbal"
      },
      "source": [
        "# Random Walks"
      ]
    },
    {
      "cell_type": "markdown",
      "metadata": {
        "id": "mpRqUeBevbal"
      },
      "source": [
        "In this exercise you will implement a simple random walk on a torus graph and will check its convergence to uniform distribution.\n",
        "\n",
        "Torus is a 2D-grid graph and looks like a 'doughnout', as shown in the picture below.\n",
        "<img src=\"https://github.com/epfml/OptML_course/blob/2ff8711feb70637d0d0f9ac75ec6164c7659c1f5/labs/ex04/template/torus_topology.png?raw=true\" alt=\"Drawing\" style=\"width: 200px;\"/>"
      ]
    },
    {
      "cell_type": "markdown",
      "metadata": {
        "id": "iTrZUCwqvban"
      },
      "source": [
        "**Note:** We will use the networkx library to generate our graph. You can install this using\n",
        "\n",
        "```bash\n",
        "    pip3 install --upgrade --user networkx\n",
        "```\n",
        "\n",
        "Let's generate the probability matrix $\\mathbf{G}$ of a torus graph of size $4\\times 4$, note that we include self-loops too. You can play around with the code in the helpers.py to generate different graphs."
      ]
    },
    {
      "cell_type": "code",
      "execution_count": 9,
      "metadata": {
        "id": "udmWz66qvban"
      },
      "outputs": [],
      "source": [
        "n_nodes = 16\n",
        "A = generate_torus_adj_matrix(n_nodes)\n",
        "degree = np.sum(A[0]) # fill in here the degree of a node in the graph\n",
        "G = A/degree"
      ]
    },
    {
      "cell_type": "markdown",
      "metadata": {
        "id": "P2U_o0sjvban"
      },
      "source": [
        "Lets generate initial probabitily distribution. Recall that our walk always starts from the node 1."
      ]
    },
    {
      "cell_type": "code",
      "execution_count": 16,
      "metadata": {
        "id": "yQrCxEa8vban"
      },
      "outputs": [],
      "source": [
        "\n",
        "x_init = np.zeros(A.shape[0]) # fill in here\n",
        "x_init[0] = 1"
      ]
    },
    {
      "cell_type": "markdown",
      "metadata": {
        "id": "SuFpJbUpvbao"
      },
      "source": [
        "As you will prove in Q2, probability distribution at each step evolves as $x_{t + 1} = G x_{t}$."
      ]
    },
    {
      "cell_type": "code",
      "execution_count": 18,
      "metadata": {
        "id": "rYM_6kCBvbao"
      },
      "outputs": [],
      "source": [
        "def random_walk(G, x_init, num_iter):\n",
        "    ''' Computes probability distribution of random walk after\n",
        "        num_iter steps.\n",
        "        Output:\n",
        "        x: final estimate of probability distribution after\n",
        "            num_iter steps\n",
        "        errors: array of differences ||x_{t} - mu||_2^2, where\n",
        "            mu is uniform distribution\n",
        "    '''\n",
        "    x = np.copy(x_init)\n",
        "    errors = np.zeros(num_iter)\n",
        "    mu = np.ones_like(x_init) / len(x_init) # fill in here\n",
        "    for t in range(0, num_iter):\n",
        "        # ***************************************************\n",
        "        # INSERT YOUR CODE HERE\n",
        "        # TODO: simulate probability distribution in random walk\n",
        "        # ***************************************************\n",
        "        errors[t] = np.linalg.norm(x - mu) ** 2\n",
        "        x = G.T @ x\n",
        "    return x, errors"
      ]
    },
    {
      "cell_type": "markdown",
      "metadata": {
        "id": "Mv8l68qevbao"
      },
      "source": [
        "Lets run our algorithm for 50 iterations and see at the final probability distribution."
      ]
    },
    {
      "cell_type": "code",
      "execution_count": 19,
      "metadata": {
        "id": "JhHTchhbvbao",
        "outputId": "7d6b7f93-488d-4584-c289-5ce9a115b73e",
        "colab": {
          "base_uri": "https://localhost:8080/",
          "height": 467
        }
      },
      "outputs": [
        {
          "output_type": "execute_result",
          "data": {
            "text/plain": [
              "Text(0, 0.5, 'probability')"
            ]
          },
          "metadata": {},
          "execution_count": 19
        },
        {
          "output_type": "display_data",
          "data": {
            "text/plain": [
              "<Figure size 640x480 with 1 Axes>"
            ],
            "image/png": "[encoded data removed]"
          },
          "metadata": {}
        }
      ],
      "source": [
        "x, errors = random_walk(G, x_init, num_iter=50)\n",
        "plt.bar(np.arange(len(x)), x)\n",
        "plt.xlabel(\"node\")\n",
        "plt.ylabel(\"probability\")"
      ]
    },
    {
      "cell_type": "markdown",
      "metadata": {
        "id": "YtwciXnNvbap"
      },
      "source": [
        "We see that the final disctribution is indeed uniform. Lets now plot how fast did the algorithm converge. We will use logarithmic scale on y-axis to be able to distinguish between sublinear and linear rates."
      ]
    },
    {
      "cell_type": "code",
      "execution_count": 20,
      "metadata": {
        "id": "N6qDObc9vbap",
        "outputId": "f1e7a38a-0016-4410-8f49-0c7ae513b32b",
        "colab": {
          "base_uri": "https://localhost:8080/",
          "height": 467
        }
      },
      "outputs": [
        {
          "output_type": "execute_result",
          "data": {
            "text/plain": [
              "Text(0, 0.5, '$||x_{t} - mu||_2^2$')"
            ]
          },
          "metadata": {},
          "execution_count": 20
        },
        {
          "output_type": "display_data",
          "data": {
            "text/plain": [
              "<Figure size 640x480 with 1 Axes>"
            ],
            "image/png": "[encoded data removed]"
          },
          "metadata": {}
        }
      ],
      "source": [
        "plt.semilogy(errors)\n",
        "plt.xlabel(\"iteration\")\n",
        "plt.ylabel(\"$||x_{t} - mu||_2^2$\")"
      ]
    },
    {
      "cell_type": "code",
      "source": [],
      "metadata": {
        "id": "I6CHQZW9xYdW"
      },
      "execution_count": null,
      "outputs": []
    }
  ],
  "metadata": {
    "anaconda-cloud": {},
    "kernelspec": {
      "display_name": "Python 3",
      "language": "python",
      "name": "python3"
    },
    "language_info": {
      "codemirror_mode": {
        "name": "ipython",
        "version": 3
      },
      "file_extension": ".py",
      "mimetype": "text/x-python",
      "name": "python",
      "nbconvert_exporter": "python",
      "pygments_lexer": "ipython3",
      "version": "3.7.4"
    },
    "colab": {
      "provenance": []
    }
  },
  "nbformat": 4,
  "nbformat_minor": 0
}