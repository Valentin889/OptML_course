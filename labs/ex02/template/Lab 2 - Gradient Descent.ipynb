{
<<<<<<< HEAD
  "cells": [
    {
      "cell_type": "code",
      "execution_count": 1,
      "metadata": {
        "id": "0y_qciU4nSnx"
      },
      "outputs": [],
      "source": [
        "# Useful starting lines\n",
        "%matplotlib inline\n",
        "import numpy as np\n",
        "import matplotlib.pyplot as plt\n",
        "%load_ext autoreload\n",
        "%autoreload 2"
      ]
    },
    {
      "cell_type": "code",
      "execution_count": 2,
      "metadata": {
        "colab": {
          "base_uri": "https://localhost:8080/"
        },
        "id": "U1ghAzlVnSny",
        "outputId": "a71dc95f-d703-4d61-cbb8-80ab579bfac6"
      },
      "outputs": [
        {
          "output_type": "stream",
          "name": "stdout",
          "text": [
            "You are running Python 3. Good job :)\n"
          ]
        }
      ],
      "source": [
        "# Check the Python version\n",
        "import sys\n",
        "if sys.version.startswith(\"3.\"):\n",
        "  print(\"You are running Python 3. Good job :)\")\n",
        "else:\n",
        "  print(\"This notebook requires Python 3.\\nIf you are using Google Colab, go to Runtime > Change runtime type and choose Python 3.\")"
      ]
    },
    {
      "cell_type": "code",
      "execution_count": 3,
      "metadata": {
        "colab": {
          "base_uri": "https://localhost:8080/"
        },
        "id": "qfdxgpyRnSny",
        "outputId": "608159e0-af10-483d-c942-4c528f85656f"
      },
      "outputs": [
        {
          "output_type": "stream",
          "name": "stdout",
          "text": [
            "Cloning into 'cloned-repo'...\n",
            "warning: --local is ignored\n",
            "remote: Enumerating objects: 2595, done.\u001b[K\n",
            "remote: Counting objects: 100% (121/121), done.\u001b[K\n",
            "remote: Compressing objects: 100% (32/32), done.\u001b[K\n",
            "remote: Total 2595 (delta 99), reused 92 (delta 89), pack-reused 2474 (from 3)\u001b[K\n",
            "Receiving objects: 100% (2595/2595), 482.09 MiB | 23.35 MiB/s, done.\n",
            "Resolving deltas: 100% (1279/1279), done.\n",
            "/content/cloned-repo/labs/ex02/template\n"
          ]
        }
      ],
      "source": [
        "try:\n",
        "  import google.colab\n",
        "  IN_COLAB = True\n",
        "except:\n",
        "  IN_COLAB = False\n",
        "if IN_COLAB:\n",
        "  # Clone the entire repo to access the files.\n",
        "  !git clone -l -s https://github.com/epfml/OptML_course.git cloned-repo\n",
        "  %cd cloned-repo/labs/ex02/template/"
      ]
    },
    {
      "cell_type": "markdown",
      "metadata": {
        "id": "cb_Q_LVinSny"
      },
      "source": [
        "# Load the data"
      ]
    },
    {
      "cell_type": "code",
      "execution_count": 4,
      "metadata": {
        "id": "VoFnX5MZnSnz"
      },
      "outputs": [],
      "source": [
        "import datetime\n",
        "from helpers import *\n",
        "\n",
        "height, weight, gender = load_data(sub_sample=False, add_outlier=False)\n",
        "x, mean_x, std_x = standardize(height)\n",
        "b, A = build_model_data(x, weight)"
      ]
    },
    {
      "cell_type": "code",
      "execution_count": 5,
      "metadata": {
        "colab": {
          "base_uri": "https://localhost:8080/"
        },
        "id": "bUfPskbJnSnz",
        "outputId": "548341c5-7ea9-4ae8-fbcb-94374130b902"
      },
      "outputs": [
        {
          "output_type": "stream",
          "name": "stdout",
          "text": [
            "Number of samples n =  10000\n",
            "Dimension of each sample d =  2\n"
          ]
        }
      ],
      "source": [
        "print('Number of samples n = ', b.shape[0])\n",
        "print('Dimension of each sample d = ', A.shape[1])"
      ]
    },
    {
      "cell_type": "markdown",
      "metadata": {
        "id": "TcM61LdXnSnz"
      },
      "source": [
        "# Least Squares Estimation\n",
        "Least squares estimation is one of the fundamental machine learning algorithms. Given an $ n \\times d $ matrix $A$ and a $ n \\times 1$ vector $b$, the goal is to find a vector $x \\in \\mathbb{R}^d$ which minimizes the objective function $$f(x) = \\frac{1}{2n} \\sum_{i=1}^{n} (a_i^\\top x - b_i)^2 = \\frac{1}{2n} \\|Ax - b\\|^2 $$\n",
        "\n",
        "In this exercise, we will try to fit $x$ using Least Squares Estimation.\n",
        "\n",
        "One can see the function is $L$ smooth with $L =\\frac1n\\|A^T A\\|  = \\frac1n\\|A\\|^2$ (Lemma 2.3 for the first equality, and a few manipulations for the second)."
      ]
    },
    {
      "cell_type": "markdown",
      "metadata": {
        "id": "sfBRyGKPnSn0"
      },
      "source": [
        "# Computing the Objective Function\n",
        "Fill in the `calculate_objective` function below:"
      ]
    },
    {
      "cell_type": "code",
      "execution_count": 6,
      "metadata": {
        "id": "f975Atw6nSn0"
      },
      "outputs": [],
      "source": [
        "def calculate_objective(Axmb):\n",
        "    \"\"\"Calculate the mean squared error for vector Axmb = Ax - b.\"\"\"\n",
        "    # ***************************************************\n",
        "    # INSERT YOUR CODE HERE\n",
        "    # TODO: compute mean squared error\n",
        "    # ***************************************************\n",
        "    n = b.shape[0]\n",
        "    return 1/(2*n) * np.linalg.norm(Axmb) ** 2\n",
        ""
      ]
    },
    {
      "cell_type": "markdown",
      "metadata": {
        "id": "r5WROcE6nSn0"
      },
      "source": [
        "# Compute smoothness constant $L$"
      ]
    },
    {
      "cell_type": "markdown",
      "metadata": {
        "id": "tWIegPSsnSn1"
      },
      "source": [
        "To compute the spectral norm of A you can use np.linalg.norm(A, 2)"
      ]
    },
    {
      "cell_type": "code",
      "execution_count": 7,
      "metadata": {
        "id": "NG3azU-anSn1"
      },
      "outputs": [],
      "source": [
        "def calculate_L(b, A):\n",
        "    \"\"\"Calculate the smoothness constant for f\"\"\"\n",
        "    # ***************************************************\n",
        "    # INSERT YOUR CODE HERE\n",
        "    # TODO: compute ||A.T*A||\n",
        "    # ***************************************************\n",
        "    norm_A = np.linalg.norm(A.T @ A, ord=2)\n",
        "\n",
        "    # ***************************************************\n",
        "    # INSERT YOUR CODE HERE\n",
        "    # TODO: compute L = smoothness constant of f\n",
        "    # ***************************************************\n",
        "    L = np.linalg.norm(A, ord=2) ** 2\n",
        "    return L"
      ]
    },
    {
      "cell_type": "markdown",
      "metadata": {
        "id": "SHoDqottnSn1"
      },
      "source": [
        "# Gradient Descent"
      ]
    },
    {
      "cell_type": "markdown",
      "metadata": {
        "id": "LOujT_HwnSn1"
      },
      "source": [
        "Please fill in the functions `compute_gradient` below:"
      ]
    },
    {
      "cell_type": "code",
      "execution_count": 11,
      "metadata": {
        "id": "TdrnnmRZnSn1"
      },
      "outputs": [],
      "source": [
        "def compute_gradient(b, A, x):\n",
        "    \"\"\"Compute the gradient.\"\"\"\n",
        "    # ***************************************************\n",
        "    # INSERT YOUR CODE HERE\n",
        "    # TODO: compute gradient and objective\n",
        "    # ***************************************************\n",
        "    Axmb = A @ x - b\n",
        "    grad = A.T @ Axmb\n",
        "\n",
        "    return grad, Axmb"
      ]
    },
    {
      "cell_type": "markdown",
      "metadata": {
        "id": "Rdg3jt4onSn1"
      },
      "source": [
        "Please fill in the functions `gradient_descent` below:"
      ]
    },
    {
      "cell_type": "code",
      "execution_count": 12,
      "metadata": {
        "id": "pnmciQMynSn1"
      },
      "outputs": [],
      "source": [
        "def gradient_descent(b, A, initial_x, max_iters, gamma):\n",
        "    \"\"\"Gradient descent algorithm.\"\"\"\n",
        "    # Define parameters to store x and objective func. values\n",
        "    xs = [initial_x]\n",
        "    objectives = []\n",
        "    x = initial_x\n",
        "    for n_iter in range(max_iters):\n",
        "        # ***************************************************\n",
        "        # INSERT YOUR CODE HERE\n",
        "        # TODO: compute gradient and objective function\n",
        "        # ***************************************************\n",
        "        grad, Axmb = compute_gradient(b, A, x)\n",
        "        obj = calculate_objective(Axmb)\n",
        "\n",
        "\n",
        "        # ***************************************************\n",
        "        # INSERT YOUR CODE HERE\n",
        "        # TODO: update x by a gradient descent step\n",
        "        # ***************************************************\n",
        "\n",
        "        x = x - gamma * grad\n",
        "\n",
        "        # store x and objective function value\n",
        "        xs.append(x)\n",
        "        objectives.append(obj)\n",
        "        print(\"Gradient Descent({bi}/{ti}): objective={l}\".format(\n",
        "              bi=n_iter, ti=max_iters - 1, l=obj))\n",
        "\n",
        "    return objectives, xs"
      ]
    },
    {
      "cell_type": "markdown",
      "metadata": {
        "id": "VtoydKRfnSn2"
      },
      "source": [
        "Test your gradient descent function with a naive step size through gradient descent demo shown below:"
      ]
    },
    {
      "cell_type": "code",
      "execution_count": 13,
      "metadata": {
        "colab": {
          "base_uri": "https://localhost:8080/"
        },
        "id": "WmA0M2S9nSn2",
        "outputId": "80722975-6d7b-4559-b831-7dbb2e77fb65"
      },
      "outputs": [
        {
          "output_type": "stream",
          "name": "stdout",
          "text": [
            "Gradient Descent(0/49): objective=2792.2367127591683\n",
            "Gradient Descent(1/49): objective=2771299915.4772754\n",
            "Gradient Descent(2/49): objective=2765760071591124.0\n",
            "Gradient Descent(3/49): objective=2.7602313172079954e+21\n",
            "Gradient Descent(4/49): objective=2.7547136148049004e+27\n",
            "Gradient Descent(5/49): objective=2.7492069422888983e+33\n",
            "Gradient Descent(6/49): objective=2.743711277611262e+39\n",
            "Gradient Descent(7/49): objective=2.7382265987673215e+45\n",
            "Gradient Descent(8/49): objective=2.732752883796385e+51\n",
            "Gradient Descent(9/49): objective=2.7272901107816804e+57\n",
            "Gradient Descent(10/49): objective=2.721838257850233e+63\n",
            "Gradient Descent(11/49): objective=2.716397303172787e+69\n",
            "Gradient Descent(12/49): objective=2.710967224963748e+75\n",
            "Gradient Descent(13/49): objective=2.7055480014810413e+81\n",
            "Gradient Descent(14/49): objective=2.700139611026083e+87\n",
            "Gradient Descent(15/49): objective=2.6947420319436394e+93\n",
            "Gradient Descent(16/49): objective=2.689355242621786e+99\n",
            "Gradient Descent(17/49): objective=2.683979221491778e+105\n",
            "Gradient Descent(18/49): objective=2.6786139470280094e+111\n",
            "Gradient Descent(19/49): objective=2.6732593977478904e+117\n",
            "Gradient Descent(20/49): objective=2.6679155522117905e+123\n",
            "Gradient Descent(21/49): objective=2.662582389022908e+129\n",
            "Gradient Descent(22/49): objective=2.65725988682725e+135\n",
            "Gradient Descent(23/49): objective=2.6519480243134878e+141\n",
            "Gradient Descent(24/49): objective=2.6466467802128816e+147\n",
            "Gradient Descent(25/49): objective=2.6413561332992344e+153\n",
            "Gradient Descent(26/49): objective=2.636076062388765e+159\n",
            "Gradient Descent(27/49): objective=2.630806546340057e+165\n",
            "Gradient Descent(28/49): objective=2.625547564053921e+171\n",
            "Gradient Descent(29/49): objective=2.6202990944733764e+177\n",
            "Gradient Descent(30/49): objective=2.6150611165835187e+183\n",
            "Gradient Descent(31/49): objective=2.6098336094114664e+189\n",
            "Gradient Descent(32/49): objective=2.6046165520262486e+195\n",
            "Gradient Descent(33/49): objective=2.5994099235387325e+201\n",
            "Gradient Descent(34/49): objective=2.594213703101574e+207\n",
            "Gradient Descent(35/49): objective=2.5890278699090776e+213\n",
            "Gradient Descent(36/49): objective=2.5838524031971293e+219\n",
            "Gradient Descent(37/49): objective=2.5786872822431424e+225\n",
            "Gradient Descent(38/49): objective=2.5735324863659407e+231\n",
            "Gradient Descent(39/49): objective=2.5683879949256955e+237\n",
            "Gradient Descent(40/49): objective=2.5632537873238492e+243\n",
            "Gradient Descent(41/49): objective=2.558129843002987e+249\n",
            "Gradient Descent(42/49): objective=2.5530161414468098e+255\n",
            "Gradient Descent(43/49): objective=2.5479126621800585e+261\n",
            "Gradient Descent(44/49): objective=2.54281938476836e+267\n",
            "Gradient Descent(45/49): objective=2.5377362888182075e+273\n",
            "Gradient Descent(46/49): objective=2.5326633539768575e+279\n",
            "Gradient Descent(47/49): objective=2.527600559932257e+285\n",
            "Gradient Descent(48/49): objective=2.5225478864129493e+291\n",
            "Gradient Descent(49/49): objective=2.5175053131880015e+297\n",
            "Gradient Descent: execution time=0.032 seconds\n"
          ]
        }
      ],
      "source": [
        "# from gradient_descent import *\n",
        "from plots import gradient_descent_visualization\n",
        "\n",
        "# Define the parameters of the algorithm.\n",
        "max_iters = 50\n",
        "\n",
        "gamma = 0.1\n",
        "\n",
        "# Initialization\n",
        "x_initial = np.zeros(A.shape[1])\n",
        "\n",
        "# Start gradient descent.\n",
        "start_time = datetime.datetime.now()\n",
        "gradient_objectives_naive, gradient_xs_naive = gradient_descent(b, A, x_initial, max_iters, gamma)\n",
        "end_time = datetime.datetime.now()\n",
        "\n",
        "# Print result\n",
        "exection_time = (end_time - start_time).total_seconds()\n",
        "print(\"Gradient Descent: execution time={t:.3f} seconds\".format(t=exection_time))"
      ]
    },
    {
      "cell_type": "markdown",
      "metadata": {
        "id": "sHD75i_fnSn2"
      },
      "source": [
        "Time Visualization"
      ]
    },
    {
      "cell_type": "code",
      "execution_count": 14,
      "metadata": {
        "colab": {
          "base_uri": "https://localhost:8080/",
          "height": 667,
          "referenced_widgets": [
            "9c2debe0e6834756b451351e2a22d710",
            "cfb37d16650d4efd9edc5fe60fce714d",
            "ba32d56bc6a54c2b86d0143a32c48473",
            "b9a6d2dedd484a358b8dbf16d1d7c1af",
            "9a8b6757eee64d778d4932528d0d30b1",
            "69dff8db524a4413aac790c371973c38",
            "3d6c9706461b4d5680b015227ab0d5e3"
          ]
        },
        "id": "8TL-DvgxnSn2",
        "outputId": "b8fa85f9-fd94-44bc-e008-6de3e1bbff4d"
      },
      "outputs": [
        {
          "output_type": "display_data",
          "data": {
            "text/plain": [
              "interactive(children=(IntSlider(value=1, description='n_iter', max=51, min=1), Output()), _dom_classes=('widge…"
            ],
            "application/vnd.jupyter.widget-view+json": {
              "version_major": 2,
              "version_minor": 0,
              "model_id": "9c2debe0e6834756b451351e2a22d710"
            }
          },
          "metadata": {}
        },
        {
          "output_type": "execute_result",
          "data": {
            "text/plain": [
              "<function __main__.plot_figure(n_iter)>"
            ],
            "text/html": [
              "<div style=\"max-width:800px; border: 1px solid var(--colab-border-color);\"><style>\n",
              "      pre.function-repr-contents {\n",
              "        overflow-x: auto;\n",
              "        padding: 8px 12px;\n",
              "        max-height: 500px;\n",
              "      }\n",
              "\n",
              "      pre.function-repr-contents.function-repr-contents-collapsed {\n",
              "        cursor: pointer;\n",
              "        max-height: 100px;\n",
              "      }\n",
              "    </style>\n",
              "    <pre style=\"white-space: initial; background:\n",
              "         var(--colab-secondary-surface-color); padding: 8px 12px;\n",
              "         border-bottom: 1px solid var(--colab-border-color);\"><b>plot_figure</b><br/>def plot_figure(n_iter)</pre><pre class=\"function-repr-contents function-repr-contents-collapsed\" style=\"\"><a class=\"filepath\" style=\"display:none\" href=\"#\">/content/cloned-repo/labs/ex02/template/&lt;ipython-input-14-524c6856c862&gt;</a>&lt;no docstring&gt;</pre></div>"
            ]
          },
          "metadata": {},
          "execution_count": 14
        }
      ],
      "source": [
        "from ipywidgets import IntSlider, interact\n",
        "from grid_search import *\n",
        "\n",
        "def plot_figure(n_iter):\n",
        "    # Generate grid data for visualization (parameters to be swept and best combination)\n",
        "    grid_x0, grid_x1 = generate_w(num_intervals=10)\n",
        "    grid_objectives = grid_search(b, A, grid_x0, grid_x1)\n",
        "    obj_star, x0_star, x1_star = get_best_parameters(grid_x0, grid_x1, grid_objectives)\n",
        "\n",
        "    fig = gradient_descent_visualization(\n",
        "        gradient_objectives_naive, gradient_xs_naive, grid_objectives, grid_x0, grid_x1, mean_x, std_x, height, weight, n_iter)\n",
        "    fig.set_size_inches(10.0, 6.0)\n",
        "\n",
        "interact(plot_figure, n_iter=IntSlider(min=1, max=len(gradient_xs_naive)))"
      ]
    },
    {
      "cell_type": "markdown",
      "metadata": {
        "id": "e2-Lo5LinSn2"
      },
      "source": [
        "Try doing gradient descent with a better learning rate"
      ]
    },
    {
      "cell_type": "code",
      "execution_count": 16,
      "metadata": {
        "colab": {
          "base_uri": "https://localhost:8080/"
        },
        "id": "89n1iDIwnSn2",
        "outputId": "79cd087b-80c8-46ea-e03e-bc1531950270"
      },
      "outputs": [
        {
          "output_type": "stream",
          "name": "stdout",
          "text": [
            "Gradient Descent(0/49): objective=2792.2367127591683\n",
            "Gradient Descent(1/49): objective=2.7768507693533323e+19\n",
            "Gradient Descent(2/49): objective=2.7768507138163282e+35\n",
            "Gradient Descent(3/49): objective=2.776850658279314e+51\n",
            "Gradient Descent(4/49): objective=2.7768506027422965e+67\n",
            "Gradient Descent(5/49): objective=2.77685054720529e+83\n",
            "Gradient Descent(6/49): objective=2.7768504916682956e+99\n",
            "Gradient Descent(7/49): objective=2.776850436131285e+115\n",
            "Gradient Descent(8/49): objective=2.7768503805942797e+131\n",
            "Gradient Descent(9/49): objective=2.7768503250572722e+147\n",
            "Gradient Descent(10/49): objective=2.776850269520268e+163\n",
            "Gradient Descent(11/49): objective=2.7768502139832637e+179\n",
            "Gradient Descent(12/49): objective=2.776850158446269e+195\n",
            "Gradient Descent(13/49): objective=2.7768501029092825e+211\n",
            "Gradient Descent(14/49): objective=2.7768500473722856e+227\n",
            "Gradient Descent(15/49): objective=2.776849991835289e+243\n",
            "Gradient Descent(16/49): objective=2.7768499362982896e+259\n",
            "Gradient Descent(17/49): objective=2.776849880761293e+275\n",
            "Gradient Descent(18/49): objective=2.776849825224297e+291\n",
            "Gradient Descent(19/49): objective=inf\n",
            "Gradient Descent(20/49): objective=inf\n",
            "Gradient Descent(21/49): objective=inf\n",
            "Gradient Descent(22/49): objective=inf\n",
            "Gradient Descent(23/49): objective=inf\n",
            "Gradient Descent(24/49): objective=inf\n",
            "Gradient Descent(25/49): objective=inf\n",
            "Gradient Descent(26/49): objective=inf\n",
            "Gradient Descent(27/49): objective=inf\n",
            "Gradient Descent(28/49): objective=inf\n",
            "Gradient Descent(29/49): objective=inf\n",
            "Gradient Descent(30/49): objective=inf\n",
            "Gradient Descent(31/49): objective=inf\n",
            "Gradient Descent(32/49): objective=inf\n",
            "Gradient Descent(33/49): objective=inf\n",
            "Gradient Descent(34/49): objective=inf\n",
            "Gradient Descent(35/49): objective=inf\n",
            "Gradient Descent(36/49): objective=inf\n",
            "Gradient Descent(37/49): objective=inf\n",
            "Gradient Descent(38/49): objective=inf\n",
            "Gradient Descent(39/49): objective=nan\n",
            "Gradient Descent(40/49): objective=nan\n",
            "Gradient Descent(41/49): objective=nan\n",
            "Gradient Descent(42/49): objective=nan\n",
            "Gradient Descent(43/49): objective=nan\n",
            "Gradient Descent(44/49): objective=nan\n",
            "Gradient Descent(45/49): objective=nan\n",
            "Gradient Descent(46/49): objective=nan\n",
            "Gradient Descent(47/49): objective=nan\n",
            "Gradient Descent(48/49): objective=nan\n",
            "Gradient Descent(49/49): objective=nan\n",
            "Gradient Descent: execution time=0.005 seconds\n"
          ]
        },
        {
          "output_type": "stream",
          "name": "stderr",
          "text": [
            "<ipython-input-11-98a469062e44>:8: RuntimeWarning: overflow encountered in matmul\n",
            "  grad = A.T @ Axmb\n",
            "<ipython-input-11-98a469062e44>:8: RuntimeWarning: invalid value encountered in matmul\n",
            "  grad = A.T @ Axmb\n"
          ]
        }
      ],
      "source": [
        "# Define the parameters of the algorithm.\n",
        "max_iters = 50\n",
        "\n",
        "# ***************************************************\n",
        "# INSERT YOUR CODE HERE\n",
        "# TODO: a better learning rate using the smoothness of f\n",
        "# ***************************************************\n",
        "gamma = calculate_L(b, A)\n",
        "\n",
        "# Initialization\n",
        "x_initial = np.zeros(A.shape[1])\n",
        "\n",
        "# Start gradient descent.\n",
        "start_time = datetime.datetime.now()\n",
        "gradient_objectives, gradient_xs = gradient_descent(b, A, x_initial, max_iters, gamma)\n",
        "end_time = datetime.datetime.now()\n",
        "\n",
        "# Print result\n",
        "exection_time = (end_time - start_time).total_seconds()\n",
        "print(\"Gradient Descent: execution time={t:.3f} seconds\".format(t=exection_time))"
      ]
    },
    {
      "cell_type": "markdown",
      "metadata": {
        "id": "S6-tFw3UnSn2"
      },
      "source": [
        "Time visualization with a better learning rate"
      ]
    },
    {
      "cell_type": "code",
      "execution_count": 17,
      "metadata": {
        "colab": {
          "base_uri": "https://localhost:8080/",
          "height": 676,
          "referenced_widgets": [
            "6b05aac057cc41a384770ad99fe6a376",
            "83c3849c703d4bfe886ae64b3aaacf8a",
            "afd4190238db48f497496905755f1636",
            "bb4acee61b7548ee8e00a18e2fe51782",
            "b58a6c2e828343698986d1a04b6869cf",
            "a2ca3a79665644228c9505bd866fef7f",
            "a926bfd5f3ab426fb21c382e8e67abc4"
          ]
        },
        "id": "tdeD9rwwnSn2",
        "outputId": "61242b92-acb3-4a61-da1c-f54345824272"
      },
      "outputs": [
        {
          "output_type": "display_data",
          "data": {
            "text/plain": [
              "interactive(children=(IntSlider(value=1, description='n_iter', max=51, min=1), Output()), _dom_classes=('widge…"
            ],
            "application/vnd.jupyter.widget-view+json": {
              "version_major": 2,
              "version_minor": 0,
              "model_id": "6b05aac057cc41a384770ad99fe6a376"
            }
          },
          "metadata": {}
        },
        {
          "output_type": "execute_result",
          "data": {
            "text/plain": [
              "<function __main__.plot_figure(n_iter)>"
            ],
            "text/html": [
              "<div style=\"max-width:800px; border: 1px solid var(--colab-border-color);\"><style>\n",
              "      pre.function-repr-contents {\n",
              "        overflow-x: auto;\n",
              "        padding: 8px 12px;\n",
              "        max-height: 500px;\n",
              "      }\n",
              "\n",
              "      pre.function-repr-contents.function-repr-contents-collapsed {\n",
              "        cursor: pointer;\n",
              "        max-height: 100px;\n",
              "      }\n",
              "    </style>\n",
              "    <pre style=\"white-space: initial; background:\n",
              "         var(--colab-secondary-surface-color); padding: 8px 12px;\n",
              "         border-bottom: 1px solid var(--colab-border-color);\"><b>plot_figure</b><br/>def plot_figure(n_iter)</pre><pre class=\"function-repr-contents function-repr-contents-collapsed\" style=\"\"><a class=\"filepath\" style=\"display:none\" href=\"#\">/content/cloned-repo/labs/ex02/template/&lt;ipython-input-17-acd7124ba846&gt;</a>&lt;no docstring&gt;</pre></div>"
            ]
          },
          "metadata": {},
          "execution_count": 17
        }
      ],
      "source": [
        "def plot_figure(n_iter):\n",
        "    # Generate grid data for visualization (parameters to be swept and best combination)\n",
        "    grid_x0, grid_x1 = generate_w(num_intervals=10)\n",
        "    grid_objectives = grid_search(b, A, grid_x0, grid_x1)\n",
        "    obj_star, x0_star, x1_star = get_best_parameters(grid_x0, grid_x1, grid_objectives)\n",
        "\n",
        "    fig = gradient_descent_visualization(\n",
        "        gradient_objectives, gradient_xs, grid_objectives, grid_x0, grid_x1, mean_x, std_x, height, weight, n_iter)\n",
        "    fig.set_size_inches(10.0, 6.0)\n",
        "\n",
        "interact(plot_figure, n_iter=IntSlider(min=1, max=len(gradient_xs)))"
      ]
    },
    {
      "cell_type": "markdown",
      "metadata": {
        "id": "oFUPQqNEnSn3"
      },
      "source": [
        "# Loading more complex data\n",
        "The data is taken from https://archive.ics.uci.edu/ml/datasets/Concrete+Compressive+Strength"
      ]
    },
    {
      "cell_type": "code",
      "execution_count": 18,
      "metadata": {
        "id": "TBDRuFannSn3"
      },
      "outputs": [],
      "source": [
        "data = np.loadtxt(\"Concrete_Data.csv\",delimiter=\",\")\n",
        "\"\"\"Note that running this part will change the A above, and it will cause error in the interaction plot!\"\"\"\n",
        "A = data[:,:-1]\n",
        "b = data[:,-1]\n",
        "A, mean_A, std_A = standardize(A)"
      ]
    },
    {
      "cell_type": "code",
      "execution_count": 19,
      "metadata": {
        "colab": {
          "base_uri": "https://localhost:8080/"
        },
        "id": "nENGI-HynSn3",
        "outputId": "ec03a902-1e0e-47fa-fedf-5b725edf980c"
      },
      "outputs": [
        {
          "output_type": "stream",
          "name": "stdout",
          "text": [
            "Number of samples n =  1030\n",
            "Dimension of each sample d =  8\n"
          ]
        }
      ],
      "source": [
        "print('Number of samples n = ', b.shape[0])\n",
        "print('Dimension of each sample d = ', A.shape[1])"
      ]
    },
    {
      "cell_type": "markdown",
      "metadata": {
        "id": "TgNs0BLQnSn3"
      },
      "source": [
        "# Running gradient descent"
      ]
    },
    {
      "cell_type": "markdown",
      "metadata": {
        "id": "7RuSK1B-nSn3"
      },
      "source": [
        "## Assuming bounded gradients\n",
        "Assume we are moving in a bounded region $\\|x\\| \\leq 25$ containing all iterates (and we assume $\\|x-x^\\star\\| \\leq 25$ as well, for simplicity). Then by $\\nabla f(x) = \\frac{1}{n}A^\\top (Ax - b)$, one can see that $f$ is Lipschitz over that bounded region, with Lipschitz constant $\\|\\nabla f(x)\\| \\leq \\frac{1}{n} (\\|A^\\top A\\|\\|x\\| + \\|A^\\top b\\|)$"
      ]
    },
    {
      "cell_type": "code",
      "execution_count": null,
      "metadata": {
        "id": "7LdIOaN1nSn3"
      },
      "outputs": [],
      "source": [
        "# ***************************************************\n",
        "# INSERT YOUR CODE HERE\n",
        "# TODO: Compute the bound on the gradient norm\n",
        "# ***************************************************\n",
        "grad_norm_bound =\n",
        "raise NotImplementedError"
      ]
    },
    {
      "cell_type": "markdown",
      "metadata": {
        "id": "H7990Pa1nSn3"
      },
      "source": [
        "Fill in the learning rate assuming bounded gradients"
      ]
    },
    {
      "cell_type": "code",
      "execution_count": null,
      "metadata": {
        "id": "-KWxaKe1nSn3"
      },
      "outputs": [],
      "source": [
        "max_iters = 50\n",
        "\n",
        "# ***************************************************\n",
        "# INSERT YOUR CODE HERE\n",
        "# TODO: Compute learning rate based on bounded gradient\n",
        "# ***************************************************\n",
        "gamma =\n",
        "raise NotImplementedError\n",
        "\n",
        "# Initialization\n",
        "x_initial = np.zeros(A.shape[1])\n",
        "\n",
        "# Start gradient descent.\n",
        "start_time = datetime.datetime.now()\n",
        "bd_gradient_objectives, bd_gradient_xs = gradient_descent(b, A, x_initial, max_iters, gamma)\n",
        "end_time = datetime.datetime.now()\n",
        "\n",
        "\n",
        "# Print result\n",
        "exection_time = (end_time - start_time).total_seconds()\n",
        "print(\"Gradient Descent: execution time={t:.3f} seconds\".format(t=exection_time))\n",
        "\n",
        "# Averaging the iterates as is the case for bounded gradients case\n",
        "bd_gradient_objectives_averaged = []\n",
        "for i in range(len(bd_gradient_xs)):\n",
        "    if i > 0:\n",
        "        bd_gradient_xs[i] = (i * bd_gradient_xs[i-1] + bd_gradient_xs[i])/(i + 1)\n",
        "    grad, err = compute_gradient(b, A, bd_gradient_xs[i])\n",
        "    obj = calculate_objective(err)\n",
        "    bd_gradient_objectives_averaged.append(obj)"
      ]
    },
    {
      "cell_type": "markdown",
      "metadata": {
        "id": "AjzJj816nSn3"
      },
      "source": [
        "## Gradient descent using smoothness\n",
        "Fill in the learning rate using smoothness of the function"
      ]
    },
    {
      "cell_type": "code",
      "execution_count": null,
      "metadata": {
        "id": "3zmsMa1NnSn3"
      },
      "outputs": [],
      "source": [
        "max_iters = 50\n",
        "\n",
        "\n",
        "# ***************************************************\n",
        "# INSERT YOUR CODE HERE\n",
        "# TODO: a better learning rate using the smoothness of f\n",
        "# ***************************************************\n",
        "gamma =\n",
        "raise NotImplementedError\n",
        "\n",
        "# Initialization\n",
        "x_initial = np.zeros(A.shape[1])\n",
        "\n",
        "# Start gradient descent.\n",
        "start_time = datetime.datetime.now()\n",
        "gradient_objectives, gradient_xs = gradient_descent(b, A, x_initial, max_iters, gamma)\n",
        "end_time = datetime.datetime.now()\n",
        "\n",
        "# Print result\n",
        "exection_time = (end_time - start_time).total_seconds()\n",
        "print(\"Gradient Descent: execution time={t:.3f} seconds\".format(t=exection_time))"
      ]
    },
    {
      "cell_type": "markdown",
      "metadata": {
        "id": "V_CkNoW2nSn4"
      },
      "source": [
        "## Plotting the Evolution of the Objective Function"
      ]
    },
    {
      "cell_type": "code",
      "execution_count": null,
      "metadata": {
        "id": "thEsvNI_nSn5"
      },
      "outputs": [],
      "source": [
        "plt.figure(figsize=(8, 8))\n",
        "plt.xlabel('Number of steps')\n",
        "plt.ylabel('Objective Function')\n",
        "#plt.yscale(\"log\")\n",
        "plt.plot(range(len(gradient_objectives)), gradient_objectives,'r', label='gradient descent with 1/L stepsize')\n",
        "plt.plot(range(len(bd_gradient_objectives)), bd_gradient_objectives,'b', label='gradient descent assuming bounded gradients')\n",
        "plt.plot(range(len(bd_gradient_objectives_averaged)), bd_gradient_objectives_averaged,'g', label='gradient descent assuming bounded gradients with averaged iterates')\n",
        "plt.legend(loc='upper right')\n",
        "plt.show()"
      ]
    }
  ],
  "metadata": {
    "anaconda-cloud": {},
    "kernelspec": {
      "display_name": "Python 3",
      "language": "python",
      "name": "python3"
    },
    "language_info": {
      "codemirror_mode": {
        "name": "ipython",
        "version": 3
      },
      "file_extension": ".py",
      "mimetype": "text/x-python",
      "name": "python",
      "nbconvert_exporter": "python",
      "pygments_lexer": "ipython3",
      "version": "3.7.4"
    },
    "widgets": {
      "application/vnd.jupyter.widget-state+json": {
        "9c2debe0e6834756b451351e2a22d710": {
          "model_module": "@jupyter-widgets/controls",
          "model_name": "VBoxModel",
          "model_module_version": "1.5.0",
          "state": {
            "_dom_classes": [
              "widget-interact"
            ],
            "_model_module": "@jupyter-widgets/controls",
            "_model_module_version": "1.5.0",
            "_model_name": "VBoxModel",
            "_view_count": null,
            "_view_module": "@jupyter-widgets/controls",
            "_view_module_version": "1.5.0",
            "_view_name": "VBoxView",
            "box_style": "",
            "children": [
              "IPY_MODEL_cfb37d16650d4efd9edc5fe60fce714d",
              "IPY_MODEL_ba32d56bc6a54c2b86d0143a32c48473"
            ],
            "layout": "IPY_MODEL_b9a6d2dedd484a358b8dbf16d1d7c1af"
          }
        },
        "cfb37d16650d4efd9edc5fe60fce714d": {
          "model_module": "@jupyter-widgets/controls",
          "model_name": "IntSliderModel",
          "model_module_version": "1.5.0",
          "state": {
            "_dom_classes": [],
            "_model_module": "@jupyter-widgets/controls",
            "_model_module_version": "1.5.0",
            "_model_name": "IntSliderModel",
            "_view_count": null,
            "_view_module": "@jupyter-widgets/controls",
            "_view_module_version": "1.5.0",
            "_view_name": "IntSliderView",
            "continuous_update": true,
            "description": "n_iter",
            "description_tooltip": null,
            "disabled": false,
            "layout": "IPY_MODEL_9a8b6757eee64d778d4932528d0d30b1",
            "max": 51,
            "min": 1,
            "orientation": "horizontal",
            "readout": true,
            "readout_format": "d",
            "step": 1,
            "style": "IPY_MODEL_69dff8db524a4413aac790c371973c38",
            "value": 1
          }
        },
        "ba32d56bc6a54c2b86d0143a32c48473": {
          "model_module": "@jupyter-widgets/output",
          "model_name": "OutputModel",
          "model_module_version": "1.0.0",
          "state": {
            "_dom_classes": [],
            "_model_module": "@jupyter-widgets/output",
            "_model_module_version": "1.0.0",
            "_model_name": "OutputModel",
            "_view_count": null,
            "_view_module": "@jupyter-widgets/output",
            "_view_module_version": "1.0.0",
            "_view_name": "OutputView",
            "layout": "IPY_MODEL_3d6c9706461b4d5680b015227ab0d5e3",
            "msg_id": "",
            "outputs": [
              {
                "output_type": "display_data",
                "data": {
                  "text/plain": "<Figure size 1000x600 with 2 Axes>",
                  "image/png": "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\n"
                },
                "metadata": {}
              }
            ]
          }
        },
        "b9a6d2dedd484a358b8dbf16d1d7c1af": {
          "model_module": "@jupyter-widgets/base",
          "model_name": "LayoutModel",
          "model_module_version": "1.2.0",
          "state": {
            "_model_module": "@jupyter-widgets/base",
            "_model_module_version": "1.2.0",
            "_model_name": "LayoutModel",
            "_view_count": null,
            "_view_module": "@jupyter-widgets/base",
            "_view_module_version": "1.2.0",
            "_view_name": "LayoutView",
            "align_content": null,
            "align_items": null,
            "align_self": null,
            "border": null,
            "bottom": null,
            "display": null,
            "flex": null,
            "flex_flow": null,
            "grid_area": null,
            "grid_auto_columns": null,
            "grid_auto_flow": null,
            "grid_auto_rows": null,
            "grid_column": null,
            "grid_gap": null,
            "grid_row": null,
            "grid_template_areas": null,
            "grid_template_columns": null,
            "grid_template_rows": null,
            "height": null,
            "justify_content": null,
            "justify_items": null,
            "left": null,
            "margin": null,
            "max_height": null,
            "max_width": null,
            "min_height": null,
            "min_width": null,
            "object_fit": null,
            "object_position": null,
            "order": null,
            "overflow": null,
            "overflow_x": null,
            "overflow_y": null,
            "padding": null,
            "right": null,
            "top": null,
            "visibility": null,
            "width": null
          }
        },
        "9a8b6757eee64d778d4932528d0d30b1": {
          "model_module": "@jupyter-widgets/base",
          "model_name": "LayoutModel",
          "model_module_version": "1.2.0",
          "state": {
            "_model_module": "@jupyter-widgets/base",
            "_model_module_version": "1.2.0",
            "_model_name": "LayoutModel",
            "_view_count": null,
            "_view_module": "@jupyter-widgets/base",
            "_view_module_version": "1.2.0",
            "_view_name": "LayoutView",
            "align_content": null,
            "align_items": null,
            "align_self": null,
            "border": null,
            "bottom": null,
            "display": null,
            "flex": null,
            "flex_flow": null,
            "grid_area": null,
            "grid_auto_columns": null,
            "grid_auto_flow": null,
            "grid_auto_rows": null,
            "grid_column": null,
            "grid_gap": null,
            "grid_row": null,
            "grid_template_areas": null,
            "grid_template_columns": null,
            "grid_template_rows": null,
            "height": null,
            "justify_content": null,
            "justify_items": null,
            "left": null,
            "margin": null,
            "max_height": null,
            "max_width": null,
            "min_height": null,
            "min_width": null,
            "object_fit": null,
            "object_position": null,
            "order": null,
            "overflow": null,
            "overflow_x": null,
            "overflow_y": null,
            "padding": null,
            "right": null,
            "top": null,
            "visibility": null,
            "width": null
          }
        },
        "69dff8db524a4413aac790c371973c38": {
          "model_module": "@jupyter-widgets/controls",
          "model_name": "SliderStyleModel",
          "model_module_version": "1.5.0",
          "state": {
            "_model_module": "@jupyter-widgets/controls",
            "_model_module_version": "1.5.0",
            "_model_name": "SliderStyleModel",
            "_view_count": null,
            "_view_module": "@jupyter-widgets/base",
            "_view_module_version": "1.2.0",
            "_view_name": "StyleView",
            "description_width": "",
            "handle_color": null
          }
        },
        "3d6c9706461b4d5680b015227ab0d5e3": {
          "model_module": "@jupyter-widgets/base",
          "model_name": "LayoutModel",
          "model_module_version": "1.2.0",
          "state": {
            "_model_module": "@jupyter-widgets/base",
            "_model_module_version": "1.2.0",
            "_model_name": "LayoutModel",
            "_view_count": null,
            "_view_module": "@jupyter-widgets/base",
            "_view_module_version": "1.2.0",
            "_view_name": "LayoutView",
            "align_content": null,
            "align_items": null,
            "align_self": null,
            "border": null,
            "bottom": null,
            "display": null,
            "flex": null,
            "flex_flow": null,
            "grid_area": null,
            "grid_auto_columns": null,
            "grid_auto_flow": null,
            "grid_auto_rows": null,
            "grid_column": null,
            "grid_gap": null,
            "grid_row": null,
            "grid_template_areas": null,
            "grid_template_columns": null,
            "grid_template_rows": null,
            "height": null,
            "justify_content": null,
            "justify_items": null,
            "left": null,
            "margin": null,
            "max_height": null,
            "max_width": null,
            "min_height": null,
            "min_width": null,
            "object_fit": null,
            "object_position": null,
            "order": null,
            "overflow": null,
            "overflow_x": null,
            "overflow_y": null,
            "padding": null,
            "right": null,
            "top": null,
            "visibility": null,
            "width": null
          }
        },
        "6b05aac057cc41a384770ad99fe6a376": {
          "model_module": "@jupyter-widgets/controls",
          "model_name": "VBoxModel",
          "model_module_version": "1.5.0",
          "state": {
            "_dom_classes": [
              "widget-interact"
            ],
            "_model_module": "@jupyter-widgets/controls",
            "_model_module_version": "1.5.0",
            "_model_name": "VBoxModel",
            "_view_count": null,
            "_view_module": "@jupyter-widgets/controls",
            "_view_module_version": "1.5.0",
            "_view_name": "VBoxView",
            "box_style": "",
            "children": [
              "IPY_MODEL_83c3849c703d4bfe886ae64b3aaacf8a",
              "IPY_MODEL_afd4190238db48f497496905755f1636"
            ],
            "layout": "IPY_MODEL_bb4acee61b7548ee8e00a18e2fe51782"
          }
        },
        "83c3849c703d4bfe886ae64b3aaacf8a": {
          "model_module": "@jupyter-widgets/controls",
          "model_name": "IntSliderModel",
          "model_module_version": "1.5.0",
          "state": {
            "_dom_classes": [],
            "_model_module": "@jupyter-widgets/controls",
            "_model_module_version": "1.5.0",
            "_model_name": "IntSliderModel",
            "_view_count": null,
            "_view_module": "@jupyter-widgets/controls",
            "_view_module_version": "1.5.0",
            "_view_name": "IntSliderView",
            "continuous_update": true,
            "description": "n_iter",
            "description_tooltip": null,
            "disabled": false,
            "layout": "IPY_MODEL_b58a6c2e828343698986d1a04b6869cf",
            "max": 51,
            "min": 1,
            "orientation": "horizontal",
            "readout": true,
            "readout_format": "d",
            "step": 1,
            "style": "IPY_MODEL_a2ca3a79665644228c9505bd866fef7f",
            "value": 51
          }
        },
        "afd4190238db48f497496905755f1636": {
          "model_module": "@jupyter-widgets/output",
          "model_name": "OutputModel",
          "model_module_version": "1.0.0",
          "state": {
            "_dom_classes": [],
            "_model_module": "@jupyter-widgets/output",
            "_model_module_version": "1.0.0",
            "_model_name": "OutputModel",
            "_view_count": null,
            "_view_module": "@jupyter-widgets/output",
            "_view_module_version": "1.0.0",
            "_view_name": "OutputView",
            "layout": "IPY_MODEL_a926bfd5f3ab426fb21c382e8e67abc4",
            "msg_id": "",
            "outputs": [
              {
                "output_type": "display_data",
                "data": {
                  "text/plain": "<Figure size 1000x600 with 2 Axes>",
                  "image/png": "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\n"
                },
                "metadata": {}
              }
            ]
          }
        },
        "bb4acee61b7548ee8e00a18e2fe51782": {
          "model_module": "@jupyter-widgets/base",
          "model_name": "LayoutModel",
          "model_module_version": "1.2.0",
          "state": {
            "_model_module": "@jupyter-widgets/base",
            "_model_module_version": "1.2.0",
            "_model_name": "LayoutModel",
            "_view_count": null,
            "_view_module": "@jupyter-widgets/base",
            "_view_module_version": "1.2.0",
            "_view_name": "LayoutView",
            "align_content": null,
            "align_items": null,
            "align_self": null,
            "border": null,
            "bottom": null,
            "display": null,
            "flex": null,
            "flex_flow": null,
            "grid_area": null,
            "grid_auto_columns": null,
            "grid_auto_flow": null,
            "grid_auto_rows": null,
            "grid_column": null,
            "grid_gap": null,
            "grid_row": null,
            "grid_template_areas": null,
            "grid_template_columns": null,
            "grid_template_rows": null,
            "height": null,
            "justify_content": null,
            "justify_items": null,
            "left": null,
            "margin": null,
            "max_height": null,
            "max_width": null,
            "min_height": null,
            "min_width": null,
            "object_fit": null,
            "object_position": null,
            "order": null,
            "overflow": null,
            "overflow_x": null,
            "overflow_y": null,
            "padding": null,
            "right": null,
            "top": null,
            "visibility": null,
            "width": null
          }
        },
        "b58a6c2e828343698986d1a04b6869cf": {
          "model_module": "@jupyter-widgets/base",
          "model_name": "LayoutModel",
          "model_module_version": "1.2.0",
          "state": {
            "_model_module": "@jupyter-widgets/base",
            "_model_module_version": "1.2.0",
            "_model_name": "LayoutModel",
            "_view_count": null,
            "_view_module": "@jupyter-widgets/base",
            "_view_module_version": "1.2.0",
            "_view_name": "LayoutView",
            "align_content": null,
            "align_items": null,
            "align_self": null,
            "border": null,
            "bottom": null,
            "display": null,
            "flex": null,
            "flex_flow": null,
            "grid_area": null,
            "grid_auto_columns": null,
            "grid_auto_flow": null,
            "grid_auto_rows": null,
            "grid_column": null,
            "grid_gap": null,
            "grid_row": null,
            "grid_template_areas": null,
            "grid_template_columns": null,
            "grid_template_rows": null,
            "height": null,
            "justify_content": null,
            "justify_items": null,
            "left": null,
            "margin": null,
            "max_height": null,
            "max_width": null,
            "min_height": null,
            "min_width": null,
            "object_fit": null,
            "object_position": null,
            "order": null,
            "overflow": null,
            "overflow_x": null,
            "overflow_y": null,
            "padding": null,
            "right": null,
            "top": null,
            "visibility": null,
            "width": null
          }
        },
        "a2ca3a79665644228c9505bd866fef7f": {
          "model_module": "@jupyter-widgets/controls",
          "model_name": "SliderStyleModel",
          "model_module_version": "1.5.0",
          "state": {
            "_model_module": "@jupyter-widgets/controls",
            "_model_module_version": "1.5.0",
            "_model_name": "SliderStyleModel",
            "_view_count": null,
            "_view_module": "@jupyter-widgets/base",
            "_view_module_version": "1.2.0",
            "_view_name": "StyleView",
            "description_width": "",
            "handle_color": null
          }
        },
        "a926bfd5f3ab426fb21c382e8e67abc4": {
          "model_module": "@jupyter-widgets/base",
          "model_name": "LayoutModel",
          "model_module_version": "1.2.0",
          "state": {
            "_model_module": "@jupyter-widgets/base",
            "_model_module_version": "1.2.0",
            "_model_name": "LayoutModel",
            "_view_count": null,
            "_view_module": "@jupyter-widgets/base",
            "_view_module_version": "1.2.0",
            "_view_name": "LayoutView",
            "align_content": null,
            "align_items": null,
            "align_self": null,
            "border": null,
            "bottom": null,
            "display": null,
            "flex": null,
            "flex_flow": null,
            "grid_area": null,
            "grid_auto_columns": null,
            "grid_auto_flow": null,
            "grid_auto_rows": null,
            "grid_column": null,
            "grid_gap": null,
            "grid_row": null,
            "grid_template_areas": null,
            "grid_template_columns": null,
            "grid_template_rows": null,
            "height": null,
            "justify_content": null,
            "justify_items": null,
            "left": null,
            "margin": null,
            "max_height": null,
            "max_width": null,
            "min_height": null,
            "min_width": null,
            "object_fit": null,
            "object_position": null,
            "order": null,
            "overflow": null,
            "overflow_x": null,
            "overflow_y": null,
            "padding": null,
            "right": null,
            "top": null,
            "visibility": null,
            "width": null
          }
        }
      }
    },
    "colab": {
      "provenance": []
    }
  },
  "nbformat": 4,
  "nbformat_minor": 0
}
=======
 "cells": [
  {
   "cell_type": "code",
   "execution_count": null,
   "metadata": {},
   "outputs": [],
   "source": [
    "# Useful starting lines\n",
    "%matplotlib inline\n",
    "import numpy as np\n",
    "import matplotlib.pyplot as plt\n",
    "%load_ext autoreload\n",
    "%autoreload 2"
   ]
  },
  {
   "cell_type": "code",
   "execution_count": null,
   "metadata": {},
   "outputs": [],
   "source": [
    "# Check the Python version\n",
    "import sys\n",
    "if sys.version.startswith(\"3.\"):\n",
    "  print(\"You are running Python 3. Good job :)\")\n",
    "else:\n",
    "  print(\"This notebook requires Python 3.\\nIf you are using Google Colab, go to Runtime > Change runtime type and choose Python 3.\")"
   ]
  },
  {
   "cell_type": "code",
   "execution_count": null,
   "metadata": {},
   "outputs": [],
   "source": [
    "try:\n",
    "  import google.colab\n",
    "  IN_COLAB = True\n",
    "except:\n",
    "  IN_COLAB = False\n",
    "if IN_COLAB:\n",
    "  # Clone the entire repo to access the files.\n",
    "  !git clone -l -s https://github.com/epfml/OptML_course.git cloned-repo\n",
    "  %cd cloned-repo/labs/ex02/template/"
   ]
  },
  {
   "cell_type": "markdown",
   "metadata": {},
   "source": [
    "# Load the data"
   ]
  },
  {
   "cell_type": "code",
   "execution_count": null,
   "metadata": {},
   "outputs": [],
   "source": [
    "import datetime\n",
    "from helpers import *\n",
    "\n",
    "height, weight, gender = load_data(sub_sample=False, add_outlier=False)\n",
    "x, mean_x, std_x = standardize(height)\n",
    "b, A = build_model_data(x, weight)"
   ]
  },
  {
   "cell_type": "code",
   "execution_count": null,
   "metadata": {},
   "outputs": [],
   "source": [
    "print('Number of samples n = ', b.shape[0])\n",
    "print('Dimension of each sample d = ', A.shape[1])"
   ]
  },
  {
   "cell_type": "markdown",
   "metadata": {},
   "source": [
    "# Least Squares Estimation\n",
    "Least squares estimation is one of the fundamental machine learning algorithms. Given an $ n \\times d $ matrix $A$ and a $ n \\times 1$ vector $b$, the goal is to find a vector $x \\in \\mathbb{R}^d$ which minimizes the objective function $$f(x) = \\frac{1}{2n} \\sum_{i=1}^{n} (a_i^\\top x - b_i)^2 = \\frac{1}{2n} \\|Ax - b\\|^2 $$\n",
    "\n",
    "In this exercise, we will try to fit $x$ using Least Squares Estimation. \n",
    "\n",
    "One can see the function is $L$ smooth with $L =\\frac1n\\|A^T A\\|  = \\frac1n\\|A\\|^2$ (Lemma 2.3 for the first equality, and a few manipulations for the second)."
   ]
  },
  {
   "cell_type": "markdown",
   "metadata": {},
   "source": [
    "# Computing the Objective Function\n",
    "Fill in the `calculate_objective` function below:"
   ]
  },
  {
   "cell_type": "code",
   "execution_count": null,
   "metadata": {},
   "outputs": [],
   "source": [
    "def calculate_objective(Axmb):\n",
    "    \"\"\"Calculate the mean squared error for vector Axmb = Ax - b.\"\"\"\n",
    "    # ***************************************************\n",
    "    # INSERT YOUR CODE HERE\n",
    "    # TODO: compute mean squared error\n",
    "    # ***************************************************\n",
    "    raise NotImplementedError"
   ]
  },
  {
   "cell_type": "markdown",
   "metadata": {},
   "source": [
    "# Compute smoothness constant $L$"
   ]
  },
  {
   "cell_type": "markdown",
   "metadata": {},
   "source": [
    "To compute the spectral norm of A you can use np.linalg.norm(A, 2)"
   ]
  },
  {
   "cell_type": "code",
   "execution_count": null,
   "metadata": {},
   "outputs": [],
   "source": [
    "def calculate_L(b, A):\n",
    "    \"\"\"Calculate the smoothness constant for f\"\"\"\n",
    "    # ***************************************************\n",
    "    # INSERT YOUR CODE HERE\n",
    "    # TODO: compute ||A.T*A||\n",
    "    # ***************************************************\n",
    "    raise NotImplementedError\n",
    "    # ***************************************************\n",
    "    # INSERT YOUR CODE HERE\n",
    "    # TODO: compute L = smoothness constant of f\n",
    "    # ***************************************************\n",
    "    raise NotImplementedError\n",
    "    return L"
   ]
  },
  {
   "cell_type": "markdown",
   "metadata": {},
   "source": [
    "# Gradient Descent"
   ]
  },
  {
   "cell_type": "markdown",
   "metadata": {},
   "source": [
    "Please fill in the functions `compute_gradient` below:"
   ]
  },
  {
   "cell_type": "code",
   "execution_count": null,
   "metadata": {},
   "outputs": [],
   "source": [
    "def compute_gradient(b, A, x):\n",
    "    \"\"\"Compute the gradient.\"\"\"\n",
    "    # ***************************************************\n",
    "    # INSERT YOUR CODE HERE\n",
    "    # TODO: compute gradient and objective\n",
    "    # ***************************************************\n",
    "    raise NotImplementedError\n",
    "    return grad, Axmb"
   ]
  },
  {
   "cell_type": "markdown",
   "metadata": {},
   "source": [
    "Please fill in the functions `gradient_descent` below:"
   ]
  },
  {
   "cell_type": "code",
   "execution_count": null,
   "metadata": {},
   "outputs": [],
   "source": [
    "def gradient_descent(b, A, initial_x, max_iters, gamma):\n",
    "    \"\"\"Gradient descent algorithm.\"\"\"\n",
    "    # Define parameters to store x and objective func. values\n",
    "    xs = [initial_x]\n",
    "    objectives = []\n",
    "    x = initial_x\n",
    "    for n_iter in range(max_iters):\n",
    "        # ***************************************************\n",
    "        # INSERT YOUR CODE HERE\n",
    "        # TODO: compute gradient and objective function\n",
    "        # ***************************************************\n",
    "        raise NotImplementedError\n",
    "        # ***************************************************\n",
    "        # INSERT YOUR CODE HERE\n",
    "        # TODO: update x by a gradient descent step\n",
    "        # ***************************************************\n",
    "        raise NotImplementedError\n",
    "        # store x and objective function value\n",
    "        xs.append(x)\n",
    "        objectives.append(obj)\n",
    "        print(\"Gradient Descent({bi}/{ti}): objective={l}\".format(\n",
    "              bi=n_iter, ti=max_iters - 1, l=obj))\n",
    "\n",
    "    return objectives, xs"
   ]
  },
  {
   "cell_type": "markdown",
   "metadata": {},
   "source": [
    "Test your gradient descent function with a naive step size through gradient descent demo shown below:"
   ]
  },
  {
   "cell_type": "code",
   "execution_count": null,
   "metadata": {},
   "outputs": [],
   "source": [
    "# from gradient_descent import *\n",
    "from plots import gradient_descent_visualization\n",
    "\n",
    "# Define the parameters of the algorithm.\n",
    "max_iters = 50\n",
    "\n",
    "gamma = 0.1\n",
    "\n",
    "# Initialization\n",
    "x_initial = np.zeros(A.shape[1])\n",
    "\n",
    "# Start gradient descent.\n",
    "start_time = datetime.datetime.now()\n",
    "gradient_objectives_naive, gradient_xs_naive = gradient_descent(b, A, x_initial, max_iters, gamma)\n",
    "end_time = datetime.datetime.now()\n",
    "\n",
    "# Print result\n",
    "exection_time = (end_time - start_time).total_seconds()\n",
    "print(\"Gradient Descent: execution time={t:.3f} seconds\".format(t=exection_time))"
   ]
  },
  {
   "cell_type": "markdown",
   "metadata": {},
   "source": [
    "Time Visualization"
   ]
  },
  {
   "cell_type": "code",
   "execution_count": null,
   "metadata": {},
   "outputs": [],
   "source": [
    "from ipywidgets import IntSlider, interact\n",
    "from grid_search import *\n",
    "\n",
    "def plot_figure(n_iter):\n",
    "    # Generate grid data for visualization (parameters to be swept and best combination)\n",
    "    grid_x0, grid_x1 = generate_w(num_intervals=10)\n",
    "    grid_objectives = grid_search(b, A, grid_x0, grid_x1)\n",
    "    obj_star, x0_star, x1_star = get_best_parameters(grid_x0, grid_x1, grid_objectives)\n",
    "    \n",
    "    fig = gradient_descent_visualization(\n",
    "        gradient_objectives_naive, gradient_xs_naive, grid_objectives, grid_x0, grid_x1, mean_x, std_x, height, weight, n_iter)\n",
    "    fig.set_size_inches(10.0, 6.0)\n",
    "\n",
    "interact(plot_figure, n_iter=IntSlider(min=1, max=len(gradient_xs_naive)))"
   ]
  },
  {
   "cell_type": "markdown",
   "metadata": {},
   "source": [
    "Try doing gradient descent with a better learning rate"
   ]
  },
  {
   "cell_type": "code",
   "execution_count": null,
   "metadata": {},
   "outputs": [],
   "source": [
    "# Define the parameters of the algorithm.\n",
    "max_iters = 50\n",
    "\n",
    "# ***************************************************\n",
    "# INSERT YOUR CODE HERE\n",
    "# TODO: a better learning rate using the smoothness of f\n",
    "# ***************************************************\n",
    "gamma = \n",
    "raise NotImplementedError\n",
    "\n",
    "# Initialization\n",
    "x_initial = np.zeros(A.shape[1])\n",
    "\n",
    "# Start gradient descent.\n",
    "start_time = datetime.datetime.now()\n",
    "gradient_objectives, gradient_xs = gradient_descent(b, A, x_initial, max_iters, gamma)\n",
    "end_time = datetime.datetime.now()\n",
    "\n",
    "# Print result\n",
    "exection_time = (end_time - start_time).total_seconds()\n",
    "print(\"Gradient Descent: execution time={t:.3f} seconds\".format(t=exection_time))"
   ]
  },
  {
   "cell_type": "markdown",
   "metadata": {},
   "source": [
    "Time visualization with a better learning rate"
   ]
  },
  {
   "cell_type": "code",
   "execution_count": null,
   "metadata": {},
   "outputs": [],
   "source": [
    "def plot_figure(n_iter):\n",
    "    # Generate grid data for visualization (parameters to be swept and best combination)\n",
    "    grid_x0, grid_x1 = generate_w(num_intervals=10)\n",
    "    grid_objectives = grid_search(b, A, grid_x0, grid_x1)\n",
    "    obj_star, x0_star, x1_star = get_best_parameters(grid_x0, grid_x1, grid_objectives)\n",
    "    \n",
    "    fig = gradient_descent_visualization(\n",
    "        gradient_objectives, gradient_xs, grid_objectives, grid_x0, grid_x1, mean_x, std_x, height, weight, n_iter)\n",
    "    fig.set_size_inches(10.0, 6.0)\n",
    "\n",
    "interact(plot_figure, n_iter=IntSlider(min=1, max=len(gradient_xs)))"
   ]
  },
  {
   "cell_type": "markdown",
   "metadata": {},
   "source": [
    "# Loading more complex data\n",
    "The data is taken from https://archive.ics.uci.edu/ml/datasets/Concrete+Compressive+Strength "
   ]
  },
  {
   "cell_type": "code",
   "execution_count": null,
   "metadata": {},
   "outputs": [],
   "source": [
    "data = np.loadtxt(\"Concrete_Data.csv\",delimiter=\",\")\n",
    "\"\"\"Note that running this part will change the A above, and it will cause error in the interaction plot!\"\"\"\n",
    "A = data[:,:-1]\n",
    "b = data[:,-1]\n",
    "A, mean_A, std_A = standardize(A)"
   ]
  },
  {
   "cell_type": "code",
   "execution_count": null,
   "metadata": {},
   "outputs": [],
   "source": [
    "print('Number of samples n = ', b.shape[0])\n",
    "print('Dimension of each sample d = ', A.shape[1])"
   ]
  },
  {
   "cell_type": "markdown",
   "metadata": {},
   "source": [
    "# Running gradient descent"
   ]
  },
  {
   "cell_type": "markdown",
   "metadata": {},
   "source": [
    "## Assuming bounded gradients\n",
    "Assume we are moving in a bounded region $\\|x\\| \\leq 25$ containing all iterates (and we assume $\\|x-x^\\star\\| \\leq 25$ as well, for simplicity). Then by $\\nabla f(x) = \\frac{1}{n}A^\\top (Ax - b)$, one can see that $f$ is Lipschitz over that bounded region, with Lipschitz constant $\\|\\nabla f(x)\\| \\leq \\frac{1}{n} (\\|A^\\top A\\|\\|x\\| + \\|A^\\top b\\|)$"
   ]
  },
  {
   "cell_type": "code",
   "execution_count": null,
   "metadata": {},
   "outputs": [],
   "source": [
    "# ***************************************************\n",
    "# INSERT YOUR CODE HERE\n",
    "# TODO: Compute the bound on the gradient norm\n",
    "# ***************************************************\n",
    "grad_norm_bound = \n",
    "raise NotImplementedError"
   ]
  },
  {
   "cell_type": "markdown",
   "metadata": {},
   "source": [
    "Fill in the learning rate assuming bounded gradients"
   ]
  },
  {
   "cell_type": "code",
   "execution_count": null,
   "metadata": {},
   "outputs": [],
   "source": [
    "max_iters = 50\n",
    "\n",
    "# ***************************************************\n",
    "# INSERT YOUR CODE HERE\n",
    "# TODO: Compute learning rate based on bounded gradient\n",
    "# ***************************************************\n",
    "gamma = \n",
    "raise NotImplementedError\n",
    "\n",
    "# Initialization\n",
    "x_initial = np.zeros(A.shape[1])\n",
    "\n",
    "# Start gradient descent.\n",
    "start_time = datetime.datetime.now()\n",
    "bd_gradient_objectives, bd_gradient_xs = gradient_descent(b, A, x_initial, max_iters, gamma)\n",
    "end_time = datetime.datetime.now()\n",
    "\n",
    "\n",
    "# Print result\n",
    "exection_time = (end_time - start_time).total_seconds()\n",
    "print(\"Gradient Descent: execution time={t:.3f} seconds\".format(t=exection_time))\n",
    "\n",
    "# Averaging the iterates as is the case for bounded gradients case\n",
    "bd_gradient_objectives_averaged = []\n",
    "for i in range(len(bd_gradient_xs)):\n",
    "    if i > 0:\n",
    "        bd_gradient_xs[i] = (i * bd_gradient_xs[i-1] + bd_gradient_xs[i])/(i + 1)\n",
    "    grad, err = compute_gradient(b, A, bd_gradient_xs[i])\n",
    "    obj = calculate_objective(err)\n",
    "    bd_gradient_objectives_averaged.append(obj)"
   ]
  },
  {
   "cell_type": "markdown",
   "metadata": {},
   "source": [
    "## Gradient descent using smoothness\n",
    "Fill in the learning rate using smoothness of the function"
   ]
  },
  {
   "cell_type": "code",
   "execution_count": null,
   "metadata": {},
   "outputs": [],
   "source": [
    "max_iters = 50\n",
    "\n",
    "\n",
    "# ***************************************************\n",
    "# INSERT YOUR CODE HERE\n",
    "# TODO: a better learning rate using the smoothness of f\n",
    "# ***************************************************\n",
    "gamma = \n",
    "raise NotImplementedError\n",
    "\n",
    "# Initialization\n",
    "x_initial = np.zeros(A.shape[1])\n",
    "\n",
    "# Start gradient descent.\n",
    "start_time = datetime.datetime.now()\n",
    "gradient_objectives, gradient_xs = gradient_descent(b, A, x_initial, max_iters, gamma)\n",
    "end_time = datetime.datetime.now()\n",
    "\n",
    "# Print result\n",
    "exection_time = (end_time - start_time).total_seconds()\n",
    "print(\"Gradient Descent: execution time={t:.3f} seconds\".format(t=exection_time))"
   ]
  },
  {
   "cell_type": "markdown",
   "metadata": {},
   "source": [
    "## Plotting the Evolution of the Objective Function"
   ]
  },
  {
   "cell_type": "code",
   "execution_count": null,
   "metadata": {},
   "outputs": [],
   "source": [
    "plt.figure(figsize=(8, 8))\n",
    "plt.xlabel('Number of steps')\n",
    "plt.ylabel('Objective Function')\n",
    "#plt.yscale(\"log\")\n",
    "plt.plot(range(len(gradient_objectives)), gradient_objectives,'r', label='gradient descent with 1/L stepsize')\n",
    "plt.plot(range(len(bd_gradient_objectives)), bd_gradient_objectives,'b', label='gradient descent assuming bounded gradients')\n",
    "plt.plot(range(len(bd_gradient_objectives_averaged)), bd_gradient_objectives_averaged,'g', label='gradient descent assuming bounded gradients with averaged iterates')\n",
    "plt.legend(loc='upper right')\n",
    "plt.show()"
   ]
  }
 ],
 "metadata": {
  "anaconda-cloud": {},
  "kernelspec": {
   "display_name": "Python 3",
   "language": "python",
   "name": "python3"
  },
  "language_info": {
   "codemirror_mode": {
    "name": "ipython",
    "version": 3
   },
   "file_extension": ".py",
   "mimetype": "text/x-python",
   "name": "python",
   "nbconvert_exporter": "python",
   "pygments_lexer": "ipython3",
   "version": "3.7.4"
  },
  "widgets": {
   "state": {
    "d2b2c3aea192430e81437f33ba0b0e69": {
     "views": [
      {
       "cell_index": 22
      }
     ]
    },
    "e4a6a7a70ccd42ddb112989c04f2ed3f": {
     "views": [
      {
       "cell_index": 18
      }
     ]
    }
   },
   "version": "1.2.0"
  }
 },
 "nbformat": 4,
 "nbformat_minor": 1
}
>>>>>>> 9e0851e6dc2f3d3603b3863aa3417e136e1bf011
