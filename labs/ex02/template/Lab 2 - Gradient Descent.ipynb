{
  "cells": [
    {
      "cell_type": "code",
      "execution_count": 1,
      "metadata": {
        "id": "0y_qciU4nSnx"
      },
      "outputs": [],
      "source": [
        "# Useful starting lines\n",
        "%matplotlib inline\n",
        "import numpy as np\n",
        "import matplotlib.pyplot as plt\n",
        "%load_ext autoreload\n",
        "%autoreload 2"
      ]
    },
    {
      "cell_type": "code",
      "execution_count": 2,
      "metadata": {
        "colab": {
          "base_uri": "https://localhost:8080/"
        },
        "id": "U1ghAzlVnSny",
        "outputId": "e37be589-e9d2-44bc-a7a7-d6622148c4d2"
      },
      "outputs": [
        {
          "output_type": "stream",
          "name": "stdout",
          "text": [
            "You are running Python 3. Good job :)\n"
          ]
        }
      ],
      "source": [
        "# Check the Python version\n",
        "import sys\n",
        "if sys.version.startswith(\"3.\"):\n",
        "  print(\"You are running Python 3. Good job :)\")\n",
        "else:\n",
        "  print(\"This notebook requires Python 3.\\nIf you are using Google Colab, go to Runtime > Change runtime type and choose Python 3.\")"
      ]
    },
    {
      "cell_type": "code",
      "execution_count": 3,
      "metadata": {
        "colab": {
          "base_uri": "https://localhost:8080/"
        },
        "id": "qfdxgpyRnSny",
        "outputId": "294e6ecf-4d12-4c65-827a-1fb3b9a3e1ed"
      },
      "outputs": [
        {
          "output_type": "stream",
          "name": "stdout",
          "text": [
            "Cloning into 'cloned-repo'...\n",
            "warning: --local is ignored\n",
            "remote: Enumerating objects: 2619, done.\u001b[K\n",
            "remote: Counting objects: 100% (145/145), done.\u001b[K\n",
            "remote: Compressing objects: 100% (49/49), done.\u001b[K\n",
            "remote: Total 2619 (delta 112), reused 112 (delta 96), pack-reused 2474 (from 3)\u001b[K\n",
            "Receiving objects: 100% (2619/2619), 482.33 MiB | 19.72 MiB/s, done.\n",
            "Resolving deltas: 100% (1292/1292), done.\n",
            "/content/cloned-repo/labs/ex02/template\n"
          ]
        }
      ],
      "source": [
        "try:\n",
        "  import google.colab\n",
        "  IN_COLAB = True\n",
        "except:\n",
        "  IN_COLAB = False\n",
        "if IN_COLAB:\n",
        "  # Clone the entire repo to access the files.\n",
        "  !git clone -l -s https://github.com/epfml/OptML_course.git cloned-repo\n",
        "  %cd cloned-repo/labs/ex02/template/"
      ]
    },
    {
      "cell_type": "markdown",
      "metadata": {
        "id": "cb_Q_LVinSny"
      },
      "source": [
        "# Load the data"
      ]
    },
    {
      "cell_type": "code",
      "execution_count": 4,
      "metadata": {
        "id": "VoFnX5MZnSnz"
      },
      "outputs": [],
      "source": [
        "import datetime\n",
        "from helpers import *\n",
        "\n",
        "height, weight, gender = load_data(sub_sample=False, add_outlier=False)\n",
        "x, mean_x, std_x = standardize(height)\n",
        "b, A = build_model_data(x, weight)"
      ]
    },
    {
      "cell_type": "code",
      "execution_count": 5,
      "metadata": {
        "colab": {
          "base_uri": "https://localhost:8080/"
        },
        "id": "bUfPskbJnSnz",
        "outputId": "37abe20b-1e38-4bfe-a75b-7d82d73a2660"
      },
      "outputs": [
        {
          "output_type": "stream",
          "name": "stdout",
          "text": [
            "Number of samples n =  10000\n",
            "Dimension of each sample d =  2\n"
          ]
        }
      ],
      "source": [
        "print('Number of samples n = ', b.shape[0])\n",
        "print('Dimension of each sample d = ', A.shape[1])"
      ]
    },
    {
      "cell_type": "markdown",
      "metadata": {
        "id": "TcM61LdXnSnz"
      },
      "source": [
        "# Least Squares Estimation\n",
        "Least squares estimation is one of the fundamental machine learning algorithms. Given an $ n \\times d $ matrix $A$ and a $ n \\times 1$ vector $b$, the goal is to find a vector $x \\in \\mathbb{R}^d$ which minimizes the objective function $$f(x) = \\frac{1}{2n} \\sum_{i=1}^{n} (a_i^\\top x - b_i)^2 = \\frac{1}{2n} \\|Ax - b\\|^2 $$\n",
        "\n",
        "In this exercise, we will try to fit $x$ using Least Squares Estimation.\n",
        "\n",
        "One can see the function is $L$ smooth with $L =\\frac1n\\|A^T A\\|  = \\frac1n\\|A\\|^2$ (Lemma 2.3 for the first equality, and a few manipulations for the second)."
      ]
    },
    {
      "cell_type": "markdown",
      "metadata": {
        "id": "sfBRyGKPnSn0"
      },
      "source": [
        "# Computing the Objective Function\n",
        "Fill in the `calculate_objective` function below:"
      ]
    },
    {
      "cell_type": "code",
      "execution_count": 7,
      "metadata": {
        "id": "f975Atw6nSn0"
      },
      "outputs": [],
      "source": [
        "def calculate_objective(Axmb):\n",
        "    \"\"\"Calculate the mean squared error for vector Axmb = Ax - b.\"\"\"\n",
        "    # ***************************************************\n",
        "    # INSERT YOUR CODE HERE\n",
        "    # TODO: compute mean squared error\n",
        "    # ***************************************************\n",
        "\n",
        "    return 1/2*np.mean(Axmb**2)\n"
      ]
    },
    {
      "cell_type": "markdown",
      "metadata": {
        "id": "r5WROcE6nSn0"
      },
      "source": [
        "# Compute smoothness constant $L$"
      ]
    },
    {
      "cell_type": "markdown",
      "metadata": {
        "id": "tWIegPSsnSn1"
      },
      "source": [
        "To compute the spectral norm of A you can use np.linalg.norm(A, 2)"
      ]
    },
    {
      "cell_type": "code",
      "execution_count": 8,
      "metadata": {
        "id": "NG3azU-anSn1"
      },
      "outputs": [],
      "source": [
        "def calculate_L(b, A):\n",
        "    \"\"\"Calculate the smoothness constant for f\"\"\"\n",
        "    # ***************************************************\n",
        "    # INSERT YOUR CODE HERE\n",
        "    # TODO: compute ||A.T*A||\n",
        "    # ***************************************************\n",
        "\n",
        "\n",
        "    # ***************************************************\n",
        "    # INSERT YOUR CODE HERE\n",
        "    # TODO: compute L = smoothness constant of f\n",
        "    # ***************************************************\n",
        "    L = np.linalg.norm(A.T.dot(A), 2) / (A.shape[0])\n",
        "    return L"
      ]
    },
    {
      "cell_type": "markdown",
      "metadata": {
        "id": "SHoDqottnSn1"
      },
      "source": [
        "# Gradient Descent"
      ]
    },
    {
      "cell_type": "markdown",
      "metadata": {
        "id": "LOujT_HwnSn1"
      },
      "source": [
        "Please fill in the functions `compute_gradient` below:"
      ]
    },
    {
      "cell_type": "code",
      "execution_count": 9,
      "metadata": {
        "id": "TdrnnmRZnSn1"
      },
      "outputs": [],
      "source": [
        "def compute_gradient(b, A, x):\n",
        "    \"\"\"Compute the gradient.\"\"\"\n",
        "    # ***************************************************\n",
        "    # INSERT YOUR CODE HERE\n",
        "    # TODO: compute gradient and objective\n",
        "    # ***************************************************\n",
        "    Axmb = A @ x - b\n",
        "    grad = A.T @ Axmb / len(Axmb)\n",
        "\n",
        "    return grad, Axmb"
      ]
    },
    {
      "cell_type": "markdown",
      "metadata": {
        "id": "Rdg3jt4onSn1"
      },
      "source": [
        "Please fill in the functions `gradient_descent` below:"
      ]
    },
    {
      "cell_type": "code",
      "execution_count": 10,
      "metadata": {
        "id": "pnmciQMynSn1"
      },
      "outputs": [],
      "source": [
        "def gradient_descent(b, A, initial_x, max_iters, gamma):\n",
        "    \"\"\"Gradient descent algorithm.\"\"\"\n",
        "    # Define parameters to store x and objective func. values\n",
        "    xs = [initial_x]\n",
        "    objectives = []\n",
        "    x = initial_x\n",
        "    for n_iter in range(max_iters):\n",
        "        # ***************************************************\n",
        "        # INSERT YOUR CODE HERE\n",
        "        # TODO: compute gradient and objective function\n",
        "        # ***************************************************\n",
        "        grad, Axmb = compute_gradient(b, A, x)\n",
        "        obj = calculate_objective(Axmb)\n",
        "\n",
        "\n",
        "        # ***************************************************\n",
        "        # INSERT YOUR CODE HERE\n",
        "        # TODO: update x by a gradient descent step\n",
        "        # ***************************************************\n",
        "\n",
        "        x = x - gamma * grad\n",
        "\n",
        "        # store x and objective function value\n",
        "        xs.append(x)\n",
        "        objectives.append(obj)\n",
        "        print(\"Gradient Descent({bi}/{ti}): objective={l}\".format(\n",
        "              bi=n_iter, ti=max_iters - 1, l=obj))\n",
        "\n",
        "    return objectives, xs"
      ]
    },
    {
      "cell_type": "markdown",
      "metadata": {
        "id": "VtoydKRfnSn2"
      },
      "source": [
        "Test your gradient descent function with a naive step size through gradient descent demo shown below:"
      ]
    },
    {
      "cell_type": "code",
      "execution_count": 11,
      "metadata": {
        "colab": {
          "base_uri": "https://localhost:8080/"
        },
        "id": "WmA0M2S9nSn2",
        "outputId": "bf810757-0a72-49b1-df69-c7b660e22db3"
      },
      "outputs": [
        {
          "output_type": "stream",
          "name": "stdout",
          "text": [
            "Gradient Descent(0/49): objective=2792.2367127591674\n",
            "Gradient Descent(1/49): objective=2264.6350560300025\n",
            "Gradient Descent(2/49): objective=1837.27771407938\n",
            "Gradient Descent(3/49): objective=1491.1182670993753\n",
            "Gradient Descent(4/49): objective=1210.729115045571\n",
            "Gradient Descent(5/49): objective=983.6139018819902\n",
            "Gradient Descent(6/49): objective=799.6505792194896\n",
            "Gradient Descent(7/49): objective=650.6402878628644\n",
            "Gradient Descent(8/49): objective=529.9419518639978\n",
            "Gradient Descent(9/49): objective=432.1762997049158\n",
            "Gradient Descent(10/49): objective=352.9861214560594\n",
            "Gradient Descent(11/49): objective=288.84207707448564\n",
            "Gradient Descent(12/49): objective=236.88540112541085\n",
            "Gradient Descent(13/49): objective=194.8004936066604\n",
            "Gradient Descent(14/49): objective=160.7117185164725\n",
            "Gradient Descent(15/49): objective=133.09981069342035\n",
            "Gradient Descent(16/49): objective=110.73416535674808\n",
            "Gradient Descent(17/49): objective=92.61799263404352\n",
            "Gradient Descent(18/49): objective=77.94389272865284\n",
            "Gradient Descent(19/49): objective=66.0578718052864\n",
            "Gradient Descent(20/49): objective=56.43019485735959\n",
            "Gradient Descent(21/49): objective=48.63177652953886\n",
            "Gradient Descent(22/49): objective=42.31505768400409\n",
            "Gradient Descent(23/49): objective=37.19851541912091\n",
            "Gradient Descent(24/49): objective=33.05411618456553\n",
            "Gradient Descent(25/49): objective=29.69715280457569\n",
            "Gradient Descent(26/49): objective=26.978012466783916\n",
            "Gradient Descent(27/49): objective=24.77550879317255\n",
            "Gradient Descent(28/49): objective=22.99148081754737\n",
            "Gradient Descent(29/49): objective=21.546418157290944\n",
            "Gradient Descent(30/49): objective=20.375917402483257\n",
            "Gradient Descent(31/49): objective=19.42781179108901\n",
            "Gradient Descent(32/49): objective=18.659846245859693\n",
            "Gradient Descent(33/49): objective=18.037794154223942\n",
            "Gradient Descent(34/49): objective=17.53393195999899\n",
            "Gradient Descent(35/49): objective=17.125803582676767\n",
            "Gradient Descent(36/49): objective=16.795219597045776\n",
            "Gradient Descent(37/49): objective=16.527446568684663\n",
            "Gradient Descent(38/49): objective=16.310550415712164\n",
            "Gradient Descent(39/49): objective=16.134864531804435\n",
            "Gradient Descent(40/49): objective=15.992558965839178\n",
            "Gradient Descent(41/49): objective=15.877291457407319\n",
            "Gradient Descent(42/49): objective=15.783924775577509\n",
            "Gradient Descent(43/49): objective=15.70829776329537\n",
            "Gradient Descent(44/49): objective=15.647039883346832\n",
            "Gradient Descent(45/49): objective=15.597421000588525\n",
            "Gradient Descent(46/49): objective=15.557229705554294\n",
            "Gradient Descent(47/49): objective=15.52467475657656\n",
            "Gradient Descent(48/49): objective=15.498305247904602\n",
            "Gradient Descent(49/49): objective=15.476945945880312\n",
            "Gradient Descent: execution time=0.007 seconds\n"
          ]
        }
      ],
      "source": [
        "# from gradient_descent import *\n",
        "from plots import gradient_descent_visualization\n",
        "\n",
        "# Define the parameters of the algorithm.\n",
        "max_iters = 50\n",
        "\n",
        "gamma = 0.1\n",
        "\n",
        "# Initialization\n",
        "x_initial = np.zeros(A.shape[1])\n",
        "\n",
        "# Start gradient descent.\n",
        "start_time = datetime.datetime.now()\n",
        "gradient_objectives_naive, gradient_xs_naive = gradient_descent(b, A, x_initial, max_iters, gamma)\n",
        "end_time = datetime.datetime.now()\n",
        "\n",
        "# Print result\n",
        "exection_time = (end_time - start_time).total_seconds()\n",
        "print(\"Gradient Descent: execution time={t:.3f} seconds\".format(t=exection_time))"
      ]
    },
    {
      "cell_type": "markdown",
      "metadata": {
        "id": "sHD75i_fnSn2"
      },
      "source": [
        "Time Visualization"
      ]
    },
    {
      "cell_type": "code",
      "execution_count": 12,
      "metadata": {
        "colab": {
          "base_uri": "https://localhost:8080/",
          "height": 667,
          "referenced_widgets": [
            "f6cf254121214b0eaf0523866a0ccb5d",
            "256600b644114049ae5b891d17d15615",
            "e3bda60ead7c4f0b9731fbc0895b1d55",
            "4c5d10ef74c842adb8120dacb5998a61",
            "4edb6afaab184d5a9b905a68ed5333fc",
            "0c6ccd68818c4142847223bfdf908dd2",
            "ae2aa1f5b33742329cfb4d25e350c368"
          ]
        },
        "id": "8TL-DvgxnSn2",
        "outputId": "cec741e4-87be-4307-fc39-36f8ca693aec"
      },
      "outputs": [
        {
          "output_type": "display_data",
          "data": {
            "text/plain": [
              "interactive(children=(IntSlider(value=1, description='n_iter', max=51, min=1), Output()), _dom_classes=('widge…"
            ],
            "application/vnd.jupyter.widget-view+json": {
              "version_major": 2,
              "version_minor": 0,
              "model_id": "f6cf254121214b0eaf0523866a0ccb5d"
            }
          },
          "metadata": {}
        },
        {
          "output_type": "execute_result",
          "data": {
            "text/plain": [
              "<function __main__.plot_figure(n_iter)>"
            ],
            "text/html": [
              "<div style=\"max-width:800px; border: 1px solid var(--colab-border-color);\"><style>\n",
              "      pre.function-repr-contents {\n",
              "        overflow-x: auto;\n",
              "        padding: 8px 12px;\n",
              "        max-height: 500px;\n",
              "      }\n",
              "\n",
              "      pre.function-repr-contents.function-repr-contents-collapsed {\n",
              "        cursor: pointer;\n",
              "        max-height: 100px;\n",
              "      }\n",
              "    </style>\n",
              "    <pre style=\"white-space: initial; background:\n",
              "         var(--colab-secondary-surface-color); padding: 8px 12px;\n",
              "         border-bottom: 1px solid var(--colab-border-color);\"><b>plot_figure</b><br/>def plot_figure(n_iter)</pre><pre class=\"function-repr-contents function-repr-contents-collapsed\" style=\"\"><a class=\"filepath\" style=\"display:none\" href=\"#\">/content/cloned-repo/labs/ex02/template/&lt;ipython-input-12-251036ce1bd5&gt;</a>&lt;no docstring&gt;</pre></div>"
            ]
          },
          "metadata": {},
          "execution_count": 12
        }
      ],
      "source": [
        "from ipywidgets import IntSlider, interact\n",
        "from grid_search import *\n",
        "\n",
        "def plot_figure(n_iter):\n",
        "    # Generate grid data for visualization (parameters to be swept and best combination)\n",
        "    grid_x0, grid_x1 = generate_w(num_intervals=10)\n",
        "    grid_objectives = grid_search(b, A, grid_x0, grid_x1)\n",
        "    obj_star, x0_star, x1_star = get_best_parameters(grid_x0, grid_x1, grid_objectives)\n",
        "\n",
        "    fig = gradient_descent_visualization(\n",
        "        gradient_objectives_naive, gradient_xs_naive, grid_objectives, grid_x0, grid_x1, mean_x, std_x, height, weight, n_iter)\n",
        "    fig.set_size_inches(10.0, 6.0)\n",
        "\n",
        "interact(plot_figure, n_iter=IntSlider(min=1, max=len(gradient_xs_naive)))"
      ]
    },
    {
      "cell_type": "markdown",
      "metadata": {
        "id": "e2-Lo5LinSn2"
      },
      "source": [
        "Try doing gradient descent with a better learning rate"
      ]
    },
    {
      "cell_type": "code",
      "execution_count": 14,
      "metadata": {
        "colab": {
          "base_uri": "https://localhost:8080/"
        },
        "id": "89n1iDIwnSn2",
        "outputId": "0542e69d-aa4a-4c04-9a59-b224d3957a8e"
      },
      "outputs": [
        {
          "output_type": "stream",
          "name": "stdout",
          "text": [
            "Gradient Descent(0/49): objective=2792.2367127591674\n",
            "Gradient Descent(1/49): objective=15.3858878688294\n",
            "Gradient Descent(2/49): objective=15.3858878688294\n",
            "Gradient Descent(3/49): objective=15.3858878688294\n",
            "Gradient Descent(4/49): objective=15.3858878688294\n",
            "Gradient Descent(5/49): objective=15.3858878688294\n",
            "Gradient Descent(6/49): objective=15.3858878688294\n",
            "Gradient Descent(7/49): objective=15.3858878688294\n",
            "Gradient Descent(8/49): objective=15.3858878688294\n",
            "Gradient Descent(9/49): objective=15.3858878688294\n",
            "Gradient Descent(10/49): objective=15.3858878688294\n",
            "Gradient Descent(11/49): objective=15.3858878688294\n",
            "Gradient Descent(12/49): objective=15.3858878688294\n",
            "Gradient Descent(13/49): objective=15.3858878688294\n",
            "Gradient Descent(14/49): objective=15.3858878688294\n",
            "Gradient Descent(15/49): objective=15.3858878688294\n",
            "Gradient Descent(16/49): objective=15.3858878688294\n",
            "Gradient Descent(17/49): objective=15.3858878688294\n",
            "Gradient Descent(18/49): objective=15.3858878688294\n",
            "Gradient Descent(19/49): objective=15.3858878688294\n",
            "Gradient Descent(20/49): objective=15.3858878688294\n",
            "Gradient Descent(21/49): objective=15.3858878688294\n",
            "Gradient Descent(22/49): objective=15.3858878688294\n",
            "Gradient Descent(23/49): objective=15.3858878688294\n",
            "Gradient Descent(24/49): objective=15.3858878688294\n",
            "Gradient Descent(25/49): objective=15.3858878688294\n",
            "Gradient Descent(26/49): objective=15.3858878688294\n",
            "Gradient Descent(27/49): objective=15.3858878688294\n",
            "Gradient Descent(28/49): objective=15.3858878688294\n",
            "Gradient Descent(29/49): objective=15.3858878688294\n",
            "Gradient Descent(30/49): objective=15.3858878688294\n",
            "Gradient Descent(31/49): objective=15.3858878688294\n",
            "Gradient Descent(32/49): objective=15.3858878688294\n",
            "Gradient Descent(33/49): objective=15.3858878688294\n",
            "Gradient Descent(34/49): objective=15.3858878688294\n",
            "Gradient Descent(35/49): objective=15.3858878688294\n",
            "Gradient Descent(36/49): objective=15.3858878688294\n",
            "Gradient Descent(37/49): objective=15.3858878688294\n",
            "Gradient Descent(38/49): objective=15.3858878688294\n",
            "Gradient Descent(39/49): objective=15.3858878688294\n",
            "Gradient Descent(40/49): objective=15.3858878688294\n",
            "Gradient Descent(41/49): objective=15.3858878688294\n",
            "Gradient Descent(42/49): objective=15.3858878688294\n",
            "Gradient Descent(43/49): objective=15.3858878688294\n",
            "Gradient Descent(44/49): objective=15.3858878688294\n",
            "Gradient Descent(45/49): objective=15.3858878688294\n",
            "Gradient Descent(46/49): objective=15.3858878688294\n",
            "Gradient Descent(47/49): objective=15.3858878688294\n",
            "Gradient Descent(48/49): objective=15.3858878688294\n",
            "Gradient Descent(49/49): objective=15.3858878688294\n",
            "Gradient Descent: execution time=0.006 seconds\n"
          ]
        }
      ],
      "source": [
        "# Define the parameters of the algorithm.\n",
        "max_iters = 50\n",
        "\n",
        "# ***************************************************\n",
        "# INSERT YOUR CODE HERE\n",
        "# TODO: a better learning rate using the smoothness of f\n",
        "# ***************************************************\n",
        "gamma = 1/ calculate_L(b, A)\n",
        "\n",
        "# Initialization\n",
        "x_initial = np.zeros(A.shape[1])\n",
        "\n",
        "# Start gradient descent.\n",
        "start_time = datetime.datetime.now()\n",
        "gradient_objectives, gradient_xs = gradient_descent(b, A, x_initial, max_iters, gamma)\n",
        "end_time = datetime.datetime.now()\n",
        "\n",
        "# Print result\n",
        "exection_time = (end_time - start_time).total_seconds()\n",
        "print(\"Gradient Descent: execution time={t:.3f} seconds\".format(t=exection_time))"
      ]
    },
    {
      "cell_type": "markdown",
      "metadata": {
        "id": "S6-tFw3UnSn2"
      },
      "source": [
        "Time visualization with a better learning rate"
      ]
    },
    {
      "cell_type": "code",
      "execution_count": 15,
      "metadata": {
        "colab": {
          "base_uri": "https://localhost:8080/",
          "height": 667,
          "referenced_widgets": [
            "f1209dcd0f3a4cf9bd96d557c2e9c9f9",
            "013fe4065c1d4fe3b794a5fe6bb9160e",
            "bde4b6ff038a4eafa5ee2f41a1565cc7",
            "31ecabff922340f59ae5b6c67085348d",
            "c95d1b1c1012489682e96df5ac81b47e",
            "1e77c15346324ac08c1287a10b35d23e",
            "567acd36f3f44202bc8caf5c40afe8e2"
          ]
        },
        "id": "tdeD9rwwnSn2",
        "outputId": "7f57f9bb-d7f8-4403-a4ae-54dd7ae95da8"
      },
      "outputs": [
        {
          "output_type": "display_data",
          "data": {
            "text/plain": [
              "interactive(children=(IntSlider(value=1, description='n_iter', max=51, min=1), Output()), _dom_classes=('widge…"
            ],
            "application/vnd.jupyter.widget-view+json": {
              "version_major": 2,
              "version_minor": 0,
              "model_id": "f1209dcd0f3a4cf9bd96d557c2e9c9f9"
            }
          },
          "metadata": {}
        },
        {
          "output_type": "execute_result",
          "data": {
            "text/plain": [
              "<function __main__.plot_figure(n_iter)>"
            ],
            "text/html": [
              "<div style=\"max-width:800px; border: 1px solid var(--colab-border-color);\"><style>\n",
              "      pre.function-repr-contents {\n",
              "        overflow-x: auto;\n",
              "        padding: 8px 12px;\n",
              "        max-height: 500px;\n",
              "      }\n",
              "\n",
              "      pre.function-repr-contents.function-repr-contents-collapsed {\n",
              "        cursor: pointer;\n",
              "        max-height: 100px;\n",
              "      }\n",
              "    </style>\n",
              "    <pre style=\"white-space: initial; background:\n",
              "         var(--colab-secondary-surface-color); padding: 8px 12px;\n",
              "         border-bottom: 1px solid var(--colab-border-color);\"><b>plot_figure</b><br/>def plot_figure(n_iter)</pre><pre class=\"function-repr-contents function-repr-contents-collapsed\" style=\"\"><a class=\"filepath\" style=\"display:none\" href=\"#\">/content/cloned-repo/labs/ex02/template/&lt;ipython-input-15-0fcc9aec6b43&gt;</a>&lt;no docstring&gt;</pre></div>"
            ]
          },
          "metadata": {},
          "execution_count": 15
        }
      ],
      "source": [
        "def plot_figure(n_iter):\n",
        "    # Generate grid data for visualization (parameters to be swept and best combination)\n",
        "    grid_x0, grid_x1 = generate_w(num_intervals=10)\n",
        "    grid_objectives = grid_search(b, A, grid_x0, grid_x1)\n",
        "    obj_star, x0_star, x1_star = get_best_parameters(grid_x0, grid_x1, grid_objectives)\n",
        "\n",
        "    fig = gradient_descent_visualization(\n",
        "        gradient_objectives, gradient_xs, grid_objectives, grid_x0, grid_x1, mean_x, std_x, height, weight, n_iter)\n",
        "    fig.set_size_inches(10.0, 6.0)\n",
        "\n",
        "interact(plot_figure, n_iter=IntSlider(min=1, max=len(gradient_xs)))"
      ]
    },
    {
      "cell_type": "markdown",
      "metadata": {
        "id": "oFUPQqNEnSn3"
      },
      "source": [
        "# Loading more complex data\n",
        "The data is taken from https://archive.ics.uci.edu/ml/datasets/Concrete+Compressive+Strength"
      ]
    },
    {
      "cell_type": "code",
      "execution_count": 16,
      "metadata": {
        "id": "TBDRuFannSn3"
      },
      "outputs": [],
      "source": [
        "data = np.loadtxt(\"Concrete_Data.csv\",delimiter=\",\")\n",
        "\"\"\"Note that running this part will change the A above, and it will cause error in the interaction plot!\"\"\"\n",
        "A = data[:,:-1]\n",
        "b = data[:,-1]\n",
        "A, mean_A, std_A = standardize(A)"
      ]
    },
    {
      "cell_type": "code",
      "execution_count": 17,
      "metadata": {
        "colab": {
          "base_uri": "https://localhost:8080/"
        },
        "id": "nENGI-HynSn3",
        "outputId": "7a68d613-1463-4e99-a25c-e4865916810f"
      },
      "outputs": [
        {
          "output_type": "stream",
          "name": "stdout",
          "text": [
            "Number of samples n =  1030\n",
            "Dimension of each sample d =  8\n"
          ]
        }
      ],
      "source": [
        "print('Number of samples n = ', b.shape[0])\n",
        "print('Dimension of each sample d = ', A.shape[1])"
      ]
    },
    {
      "cell_type": "markdown",
      "metadata": {
        "id": "TgNs0BLQnSn3"
      },
      "source": [
        "# Running gradient descent"
      ]
    },
    {
      "cell_type": "markdown",
      "metadata": {
        "id": "7RuSK1B-nSn3"
      },
      "source": [
        "## Assuming bounded gradients\n",
        "Assume we are moving in a bounded region $\\|x\\| \\leq 25$ containing all iterates (and we assume $\\|x-x^\\star\\| \\leq 25$ as well, for simplicity). Then by $\\nabla f(x) = \\frac{1}{n}A^\\top (Ax - b)$, one can see that $f$ is Lipschitz over that bounded region, with Lipschitz constant $\\|\\nabla f(x)\\| \\leq \\frac{1}{n} (\\|A^\\top A\\|\\|x\\| + \\|A^\\top b\\|)$"
      ]
    },
    {
      "cell_type": "code",
      "execution_count": 18,
      "metadata": {
        "id": "7LdIOaN1nSn3",
        "outputId": "5c7815a6-d949-490e-9ecf-027ffe9158fa",
        "colab": {
          "base_uri": "https://localhost:8080/"
        }
      },
      "outputs": [
        {
          "output_type": "execute_result",
          "data": {
            "text/plain": [
              "98.66209327259456"
            ]
          },
          "metadata": {},
          "execution_count": 18
        }
      ],
      "source": [
        "# ***************************************************\n",
        "# INSERT YOUR CODE HERE\n",
        "# TODO: Compute the bound on the gradient norm\n",
        "# ***************************************************\n",
        "grad_norm_bound =(25*np.linalg.norm(np.dot(A.T,A)) + np.linalg.norm(np.dot(A.T,b)))/A.shape[0]\n",
        "grad_norm_bound"
      ]
    },
    {
      "cell_type": "markdown",
      "metadata": {
        "id": "H7990Pa1nSn3"
      },
      "source": [
        "Fill in the learning rate assuming bounded gradients"
      ]
    },
    {
      "cell_type": "code",
      "execution_count": 19,
      "metadata": {
        "id": "-KWxaKe1nSn3",
        "outputId": "57a3dc77-c88e-4f12-91e4-b6bb5789af12",
        "colab": {
          "base_uri": "https://localhost:8080/"
        }
      },
      "outputs": [
        {
          "output_type": "stream",
          "name": "stdout",
          "text": [
            "Gradient Descent(0/49): objective=780.8686016504854\n",
            "Gradient Descent(1/49): objective=774.4313276862508\n",
            "Gradient Descent(2/49): objective=768.5337098080474\n",
            "Gradient Descent(3/49): objective=763.128373331103\n",
            "Gradient Descent(4/49): objective=758.1722464988205\n",
            "Gradient Descent(5/49): objective=753.6261574580171\n",
            "Gradient Descent(6/49): objective=749.4544702154914\n",
            "Gradient Descent(7/49): objective=745.6247556604571\n",
            "Gradient Descent(8/49): objective=742.1074941494888\n",
            "Gradient Descent(9/49): objective=738.8758065168347\n",
            "Gradient Descent(10/49): objective=735.9052106986935\n",
            "Gradient Descent(11/49): objective=733.1734014501008\n",
            "Gradient Descent(12/49): objective=730.6600508915816\n",
            "Gradient Descent(13/49): objective=728.3466278533618\n",
            "Gradient Descent(14/49): objective=726.2162341908602\n",
            "Gradient Descent(15/49): objective=724.2534564292371\n",
            "Gradient Descent(16/49): objective=722.4442312594081\n",
            "Gradient Descent(17/49): objective=720.7757235552962\n",
            "Gradient Descent(18/49): objective=719.2362157141333\n",
            "Gradient Descent(19/49): objective=717.8150072399927\n",
            "Gradient Descent(20/49): objective=716.5023235969363\n",
            "Gradient Descent(21/49): objective=715.2892334535042\n",
            "Gradient Descent(22/49): objective=714.1675735259378\n",
            "Gradient Descent(23/49): objective=713.1298803045223\n",
            "Gradient Descent(24/49): objective=712.1693280166955\n",
            "Gradient Descent(25/49): objective=711.2796722428957\n",
            "Gradient Descent(26/49): objective=710.4551986572515\n",
            "Gradient Descent(27/49): objective=709.6906764157699\n",
            "Gradient Descent(28/49): objective=708.9813157602601\n",
            "Gradient Descent(29/49): objective=708.3227294473201\n",
            "Gradient Descent(30/49): objective=707.7108976487891\n",
            "Gradient Descent(31/49): objective=707.1421360035326\n",
            "Gradient Descent(32/49): objective=706.613066530628\n",
            "Gradient Descent(33/49): objective=706.1205911413172\n",
            "Gradient Descent(34/49): objective=705.6618675117395\n",
            "Gradient Descent(35/49): objective=705.2342871007447\n",
            "Gradient Descent(36/49): objective=704.8354551172382\n",
            "Gradient Descent(37/49): objective=704.4631722597288\n",
            "Gradient Descent(38/49): objective=704.1154180672427\n",
            "Gradient Descent(39/49): objective=703.7903357356831\n",
            "Gradient Descent(40/49): objective=703.4862182672251\n",
            "Gradient Descent(41/49): objective=703.2014958325638\n",
            "Gradient Descent(42/49): objective=702.9347242369095\n",
            "Gradient Descent(43/49): objective=702.6845743906633\n",
            "Gradient Descent(44/49): objective=702.4498226947926\n",
            "Gradient Descent(45/49): objective=702.2293422591738\n",
            "Gradient Descent(46/49): objective=702.0220948796361\n",
            "Gradient Descent(47/49): objective=701.8271237062208\n",
            "Gradient Descent(48/49): objective=701.6435465413084\n",
            "Gradient Descent(49/49): objective=701.4705497118426\n",
            "Gradient Descent: execution time=0.004 seconds\n"
          ]
        }
      ],
      "source": [
        "max_iters = 50\n",
        "\n",
        "# ***************************************************\n",
        "# INSERT YOUR CODE HERE\n",
        "# TODO: Compute learning rate based on bounded gradient\n",
        "# ***************************************************\n",
        "gamma =25/(grad_norm_bound*np.sqrt(max_iters))\n",
        "\n",
        "# Initialization\n",
        "x_initial = np.zeros(A.shape[1])\n",
        "\n",
        "# Start gradient descent.\n",
        "start_time = datetime.datetime.now()\n",
        "bd_gradient_objectives, bd_gradient_xs = gradient_descent(b, A, x_initial, max_iters, gamma)\n",
        "end_time = datetime.datetime.now()\n",
        "\n",
        "\n",
        "# Print result\n",
        "exection_time = (end_time - start_time).total_seconds()\n",
        "print(\"Gradient Descent: execution time={t:.3f} seconds\".format(t=exection_time))\n",
        "\n",
        "# Averaging the iterates as is the case for bounded gradients case\n",
        "bd_gradient_objectives_averaged = []\n",
        "for i in range(len(bd_gradient_xs)):\n",
        "    if i > 0:\n",
        "        bd_gradient_xs[i] = (i * bd_gradient_xs[i-1] + bd_gradient_xs[i])/(i + 1)\n",
        "    grad, err = compute_gradient(b, A, bd_gradient_xs[i])\n",
        "    obj = calculate_objective(err)\n",
        "    bd_gradient_objectives_averaged.append(obj)"
      ]
    },
    {
      "cell_type": "markdown",
      "metadata": {
        "id": "AjzJj816nSn3"
      },
      "source": [
        "## Gradient descent using smoothness\n",
        "Fill in the learning rate using smoothness of the function"
      ]
    },
    {
      "cell_type": "code",
      "execution_count": 20,
      "metadata": {
        "id": "3zmsMa1NnSn3",
        "outputId": "fdcdfdcb-6c5d-46e1-d171-37e3a5019f7b",
        "colab": {
          "base_uri": "https://localhost:8080/"
        }
      },
      "outputs": [
        {
          "output_type": "stream",
          "name": "stdout",
          "text": [
            "Gradient Descent(0/49): objective=780.8686016504854\n",
            "Gradient Descent(1/49): objective=721.5052560260676\n",
            "Gradient Descent(2/49): objective=706.7843584315374\n",
            "Gradient Descent(3/49): objective=702.1659603718193\n",
            "Gradient Descent(4/49): objective=700.3195706210597\n",
            "Gradient Descent(5/49): objective=699.3927282552014\n",
            "Gradient Descent(6/49): objective=698.8265138747603\n",
            "Gradient Descent(7/49): objective=698.4252460378514\n",
            "Gradient Descent(8/49): objective=698.1121802865196\n",
            "Gradient Descent(9/49): objective=697.8540419775695\n",
            "Gradient Descent(10/49): objective=697.6346924802035\n",
            "Gradient Descent(11/49): objective=697.4451956987403\n",
            "Gradient Descent(12/49): objective=697.2798771098778\n",
            "Gradient Descent(13/49): objective=697.134694345026\n",
            "Gradient Descent(14/49): objective=697.0065306304226\n",
            "Gradient Descent(15/49): objective=696.8928669366339\n",
            "Gradient Descent(16/49): objective=696.7916143488984\n",
            "Gradient Descent(17/49): objective=696.701017217532\n",
            "Gradient Descent(18/49): objective=696.6195897256093\n",
            "Gradient Descent(19/49): objective=696.5460698345364\n",
            "Gradient Descent(20/49): objective=696.4793834248536\n",
            "Gradient Descent(21/49): objective=696.4186151939681\n",
            "Gradient Descent(22/49): objective=696.3629844974911\n",
            "Gradient Descent(23/49): objective=696.3118250564794\n",
            "Gradient Descent(24/49): objective=696.2645678090806\n",
            "Gradient Descent(25/49): objective=696.220726375205\n",
            "Gradient Descent(26/49): objective=696.1798847171167\n",
            "Gradient Descent(27/49): objective=696.141686656003\n",
            "Gradient Descent(28/49): objective=696.1058269617539\n",
            "Gradient Descent(29/49): objective=696.072043778206\n",
            "Gradient Descent(30/49): objective=696.0401121828638\n",
            "Gradient Descent(31/49): objective=696.0098387107206\n",
            "Gradient Descent(32/49): objective=695.9810566975377\n",
            "Gradient Descent(33/49): objective=695.9536223197188\n",
            "Gradient Descent(34/49): objective=695.92741122636\n",
            "Gradient Descent(35/49): objective=695.9023156747344\n",
            "Gradient Descent(36/49): objective=695.87824209377\n",
            "Gradient Descent(37/49): objective=695.8551090113992\n",
            "Gradient Descent(38/49): objective=695.8328452912637\n",
            "Gradient Descent(39/49): objective=695.8113886324363\n",
            "Gradient Descent(40/49): objective=695.7906842927656\n",
            "Gradient Descent(41/49): objective=695.7706840023488\n",
            "Gradient Descent(42/49): objective=695.7513450386715\n",
            "Gradient Descent(43/49): objective=695.7326294392002\n",
            "Gradient Descent(44/49): objective=695.714503330864\n",
            "Gradient Descent(45/49): objective=695.6969363589233\n",
            "Gradient Descent(46/49): objective=695.6799012003625\n",
            "Gradient Descent(47/49): objective=695.6633731491596\n",
            "Gradient Descent(48/49): objective=695.6473297626892\n",
            "Gradient Descent(49/49): objective=695.6317505601199\n",
            "Gradient Descent: execution time=0.003 seconds\n"
          ]
        }
      ],
      "source": [
        "max_iters = 50\n",
        "\n",
        "\n",
        "# ***************************************************\n",
        "# INSERT YOUR CODE HERE\n",
        "# TODO: a better learning rate using the smoothness of f\n",
        "# ***************************************************\n",
        "L = calculate_L(b, A)\n",
        "gamma = 1/L\n",
        "\n",
        "# Initialization\n",
        "x_initial = np.zeros(A.shape[1])\n",
        "\n",
        "# Start gradient descent.\n",
        "start_time = datetime.datetime.now()\n",
        "gradient_objectives, gradient_xs = gradient_descent(b, A, x_initial, max_iters, gamma)\n",
        "end_time = datetime.datetime.now()\n",
        "\n",
        "# Print result\n",
        "exection_time = (end_time - start_time).total_seconds()\n",
        "print(\"Gradient Descent: execution time={t:.3f} seconds\".format(t=exection_time))"
      ]
    },
    {
      "cell_type": "markdown",
      "metadata": {
        "id": "V_CkNoW2nSn4"
      },
      "source": [
        "## Plotting the Evolution of the Objective Function"
      ]
    },
    {
      "cell_type": "code",
      "execution_count": 21,
      "metadata": {
        "id": "thEsvNI_nSn5",
        "outputId": "3c940072-7dbc-4f36-eddb-68693f535b8e",
        "colab": {
          "base_uri": "https://localhost:8080/",
          "height": 696
        }
      },
      "outputs": [
        {
          "output_type": "display_data",
          "data": {
            "text/plain": [
              "<Figure size 800x800 with 1 Axes>"
            ],
            "image/png": "[encoded data removed]"
          },
          "metadata": {}
        }
      ],
      "source": [
        "plt.figure(figsize=(8, 8))\n",
        "plt.xlabel('Number of steps')\n",
        "plt.ylabel('Objective Function')\n",
        "#plt.yscale(\"log\")\n",
        "plt.plot(range(len(gradient_objectives)), gradient_objectives,'r', label='gradient descent with 1/L stepsize')\n",
        "plt.plot(range(len(bd_gradient_objectives)), bd_gradient_objectives,'b', label='gradient descent assuming bounded gradients')\n",
        "plt.plot(range(len(bd_gradient_objectives_averaged)), bd_gradient_objectives_averaged,'g', label='gradient descent assuming bounded gradients with averaged iterates')\n",
        "plt.legend(loc='upper right')\n",
        "plt.show()"
      ]
    },
    {
      "cell_type": "code",
      "source": [],
      "metadata": {
        "id": "oByQahNXVsKD"
      },
      "execution_count": null,
      "outputs": []
    }
  ],
  "metadata": {
    "anaconda-cloud": {},
    "kernelspec": {
      "display_name": "Python 3",
      "language": "python",
      "name": "python3"
    },
    "language_info": {
      "codemirror_mode": {
        "name": "ipython",
        "version": 3
      },
      "file_extension": ".py",
      "mimetype": "text/x-python",
      "name": "python",
      "nbconvert_exporter": "python",
      "pygments_lexer": "ipython3",
      "version": "3.7.4"
    },
    "widgets": {
      "application/vnd.jupyter.widget-state+json": {
        "f6cf254121214b0eaf0523866a0ccb5d": {
          "model_module": "@jupyter-widgets/controls",
          "model_name": "VBoxModel",
          "model_module_version": "1.5.0",
          "state": {
            "_dom_classes": [
              "widget-interact"
            ],
            "_model_module": "@jupyter-widgets/controls",
            "_model_module_version": "1.5.0",
            "_model_name": "VBoxModel",
            "_view_count": null,
            "_view_module": "@jupyter-widgets/controls",
            "_view_module_version": "1.5.0",
            "_view_name": "VBoxView",
            "box_style": "",
            "children": [
              "IPY_MODEL_256600b644114049ae5b891d17d15615",
              "IPY_MODEL_e3bda60ead7c4f0b9731fbc0895b1d55"
            ],
            "layout": "IPY_MODEL_4c5d10ef74c842adb8120dacb5998a61"
          }
        },
        "256600b644114049ae5b891d17d15615": {
          "model_module": "@jupyter-widgets/controls",
          "model_name": "IntSliderModel",
          "model_module_version": "1.5.0",
          "state": {
            "_dom_classes": [],
            "_model_module": "@jupyter-widgets/controls",
            "_model_module_version": "1.5.0",
            "_model_name": "IntSliderModel",
            "_view_count": null,
            "_view_module": "@jupyter-widgets/controls",
            "_view_module_version": "1.5.0",
            "_view_name": "IntSliderView",
            "continuous_update": true,
            "description": "n_iter",
            "description_tooltip": null,
            "disabled": false,
            "layout": "IPY_MODEL_4edb6afaab184d5a9b905a68ed5333fc",
            "max": 51,
            "min": 1,
            "orientation": "horizontal",
            "readout": true,
            "readout_format": "d",
            "step": 1,
            "style": "IPY_MODEL_0c6ccd68818c4142847223bfdf908dd2",
            "value": 33
          }
        },
        "e3bda60ead7c4f0b9731fbc0895b1d55": {
          "model_module": "@jupyter-widgets/output",
          "model_name": "OutputModel",
          "model_module_version": "1.0.0",
          "state": {
            "_dom_classes": [],
            "_model_module": "@jupyter-widgets/output",
            "_model_module_version": "1.0.0",
            "_model_name": "OutputModel",
            "_view_count": null,
            "_view_module": "@jupyter-widgets/output",
            "_view_module_version": "1.0.0",
            "_view_name": "OutputView",
            "layout": "IPY_MODEL_ae2aa1f5b33742329cfb4d25e350c368",
            "msg_id": "",
            "outputs": [
              {
                "output_type": "display_data",
                "data": {
                  "text/plain": "<Figure size 1000x600 with 2 Axes>",
                  "image/png": "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\n"
                },
                "metadata": {}
              }
            ]
          }
        },
        "4c5d10ef74c842adb8120dacb5998a61": {
          "model_module": "@jupyter-widgets/base",
          "model_name": "LayoutModel",
          "model_module_version": "1.2.0",
          "state": {
            "_model_module": "@jupyter-widgets/base",
            "_model_module_version": "1.2.0",
            "_model_name": "LayoutModel",
            "_view_count": null,
            "_view_module": "@jupyter-widgets/base",
            "_view_module_version": "1.2.0",
            "_view_name": "LayoutView",
            "align_content": null,
            "align_items": null,
            "align_self": null,
            "border": null,
            "bottom": null,
            "display": null,
            "flex": null,
            "flex_flow": null,
            "grid_area": null,
            "grid_auto_columns": null,
            "grid_auto_flow": null,
            "grid_auto_rows": null,
            "grid_column": null,
            "grid_gap": null,
            "grid_row": null,
            "grid_template_areas": null,
            "grid_template_columns": null,
            "grid_template_rows": null,
            "height": null,
            "justify_content": null,
            "justify_items": null,
            "left": null,
            "margin": null,
            "max_height": null,
            "max_width": null,
            "min_height": null,
            "min_width": null,
            "object_fit": null,
            "object_position": null,
            "order": null,
            "overflow": null,
            "overflow_x": null,
            "overflow_y": null,
            "padding": null,
            "right": null,
            "top": null,
            "visibility": null,
            "width": null
          }
        },
        "4edb6afaab184d5a9b905a68ed5333fc": {
          "model_module": "@jupyter-widgets/base",
          "model_name": "LayoutModel",
          "model_module_version": "1.2.0",
          "state": {
            "_model_module": "@jupyter-widgets/base",
            "_model_module_version": "1.2.0",
            "_model_name": "LayoutModel",
            "_view_count": null,
            "_view_module": "@jupyter-widgets/base",
            "_view_module_version": "1.2.0",
            "_view_name": "LayoutView",
            "align_content": null,
            "align_items": null,
            "align_self": null,
            "border": null,
            "bottom": null,
            "display": null,
            "flex": null,
            "flex_flow": null,
            "grid_area": null,
            "grid_auto_columns": null,
            "grid_auto_flow": null,
            "grid_auto_rows": null,
            "grid_column": null,
            "grid_gap": null,
            "grid_row": null,
            "grid_template_areas": null,
            "grid_template_columns": null,
            "grid_template_rows": null,
            "height": null,
            "justify_content": null,
            "justify_items": null,
            "left": null,
            "margin": null,
            "max_height": null,
            "max_width": null,
            "min_height": null,
            "min_width": null,
            "object_fit": null,
            "object_position": null,
            "order": null,
            "overflow": null,
            "overflow_x": null,
            "overflow_y": null,
            "padding": null,
            "right": null,
            "top": null,
            "visibility": null,
            "width": null
          }
        },
        "0c6ccd68818c4142847223bfdf908dd2": {
          "model_module": "@jupyter-widgets/controls",
          "model_name": "SliderStyleModel",
          "model_module_version": "1.5.0",
          "state": {
            "_model_module": "@jupyter-widgets/controls",
            "_model_module_version": "1.5.0",
            "_model_name": "SliderStyleModel",
            "_view_count": null,
            "_view_module": "@jupyter-widgets/base",
            "_view_module_version": "1.2.0",
            "_view_name": "StyleView",
            "description_width": "",
            "handle_color": null
          }
        },
        "ae2aa1f5b33742329cfb4d25e350c368": {
          "model_module": "@jupyter-widgets/base",
          "model_name": "LayoutModel",
          "model_module_version": "1.2.0",
          "state": {
            "_model_module": "@jupyter-widgets/base",
            "_model_module_version": "1.2.0",
            "_model_name": "LayoutModel",
            "_view_count": null,
            "_view_module": "@jupyter-widgets/base",
            "_view_module_version": "1.2.0",
            "_view_name": "LayoutView",
            "align_content": null,
            "align_items": null,
            "align_self": null,
            "border": null,
            "bottom": null,
            "display": null,
            "flex": null,
            "flex_flow": null,
            "grid_area": null,
            "grid_auto_columns": null,
            "grid_auto_flow": null,
            "grid_auto_rows": null,
            "grid_column": null,
            "grid_gap": null,
            "grid_row": null,
            "grid_template_areas": null,
            "grid_template_columns": null,
            "grid_template_rows": null,
            "height": null,
            "justify_content": null,
            "justify_items": null,
            "left": null,
            "margin": null,
            "max_height": null,
            "max_width": null,
            "min_height": null,
            "min_width": null,
            "object_fit": null,
            "object_position": null,
            "order": null,
            "overflow": null,
            "overflow_x": null,
            "overflow_y": null,
            "padding": null,
            "right": null,
            "top": null,
            "visibility": null,
            "width": null
          }
        },
        "f1209dcd0f3a4cf9bd96d557c2e9c9f9": {
          "model_module": "@jupyter-widgets/controls",
          "model_name": "VBoxModel",
          "model_module_version": "1.5.0",
          "state": {
            "_dom_classes": [
              "widget-interact"
            ],
            "_model_module": "@jupyter-widgets/controls",
            "_model_module_version": "1.5.0",
            "_model_name": "VBoxModel",
            "_view_count": null,
            "_view_module": "@jupyter-widgets/controls",
            "_view_module_version": "1.5.0",
            "_view_name": "VBoxView",
            "box_style": "",
            "children": [
              "IPY_MODEL_013fe4065c1d4fe3b794a5fe6bb9160e",
              "IPY_MODEL_bde4b6ff038a4eafa5ee2f41a1565cc7"
            ],
            "layout": "IPY_MODEL_31ecabff922340f59ae5b6c67085348d"
          }
        },
        "013fe4065c1d4fe3b794a5fe6bb9160e": {
          "model_module": "@jupyter-widgets/controls",
          "model_name": "IntSliderModel",
          "model_module_version": "1.5.0",
          "state": {
            "_dom_classes": [],
            "_model_module": "@jupyter-widgets/controls",
            "_model_module_version": "1.5.0",
            "_model_name": "IntSliderModel",
            "_view_count": null,
            "_view_module": "@jupyter-widgets/controls",
            "_view_module_version": "1.5.0",
            "_view_name": "IntSliderView",
            "continuous_update": true,
            "description": "n_iter",
            "description_tooltip": null,
            "disabled": false,
            "layout": "IPY_MODEL_c95d1b1c1012489682e96df5ac81b47e",
            "max": 51,
            "min": 1,
            "orientation": "horizontal",
            "readout": true,
            "readout_format": "d",
            "step": 1,
            "style": "IPY_MODEL_1e77c15346324ac08c1287a10b35d23e",
            "value": 1
          }
        },
        "bde4b6ff038a4eafa5ee2f41a1565cc7": {
          "model_module": "@jupyter-widgets/output",
          "model_name": "OutputModel",
          "model_module_version": "1.0.0",
          "state": {
            "_dom_classes": [],
            "_model_module": "@jupyter-widgets/output",
            "_model_module_version": "1.0.0",
            "_model_name": "OutputModel",
            "_view_count": null,
            "_view_module": "@jupyter-widgets/output",
            "_view_module_version": "1.0.0",
            "_view_name": "OutputView",
            "layout": "IPY_MODEL_567acd36f3f44202bc8caf5c40afe8e2",
            "msg_id": "",
            "outputs": [
              {
                "output_type": "display_data",
                "data": {
                  "text/plain": "<Figure size 1000x600 with 2 Axes>",
                  "image/png": "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\n"
                },
                "metadata": {}
              }
            ]
          }
        },
        "31ecabff922340f59ae5b6c67085348d": {
          "model_module": "@jupyter-widgets/base",
          "model_name": "LayoutModel",
          "model_module_version": "1.2.0",
          "state": {
            "_model_module": "@jupyter-widgets/base",
            "_model_module_version": "1.2.0",
            "_model_name": "LayoutModel",
            "_view_count": null,
            "_view_module": "@jupyter-widgets/base",
            "_view_module_version": "1.2.0",
            "_view_name": "LayoutView",
            "align_content": null,
            "align_items": null,
            "align_self": null,
            "border": null,
            "bottom": null,
            "display": null,
            "flex": null,
            "flex_flow": null,
            "grid_area": null,
            "grid_auto_columns": null,
            "grid_auto_flow": null,
            "grid_auto_rows": null,
            "grid_column": null,
            "grid_gap": null,
            "grid_row": null,
            "grid_template_areas": null,
            "grid_template_columns": null,
            "grid_template_rows": null,
            "height": null,
            "justify_content": null,
            "justify_items": null,
            "left": null,
            "margin": null,
            "max_height": null,
            "max_width": null,
            "min_height": null,
            "min_width": null,
            "object_fit": null,
            "object_position": null,
            "order": null,
            "overflow": null,
            "overflow_x": null,
            "overflow_y": null,
            "padding": null,
            "right": null,
            "top": null,
            "visibility": null,
            "width": null
          }
        },
        "c95d1b1c1012489682e96df5ac81b47e": {
          "model_module": "@jupyter-widgets/base",
          "model_name": "LayoutModel",
          "model_module_version": "1.2.0",
          "state": {
            "_model_module": "@jupyter-widgets/base",
            "_model_module_version": "1.2.0",
            "_model_name": "LayoutModel",
            "_view_count": null,
            "_view_module": "@jupyter-widgets/base",
            "_view_module_version": "1.2.0",
            "_view_name": "LayoutView",
            "align_content": null,
            "align_items": null,
            "align_self": null,
            "border": null,
            "bottom": null,
            "display": null,
            "flex": null,
            "flex_flow": null,
            "grid_area": null,
            "grid_auto_columns": null,
            "grid_auto_flow": null,
            "grid_auto_rows": null,
            "grid_column": null,
            "grid_gap": null,
            "grid_row": null,
            "grid_template_areas": null,
            "grid_template_columns": null,
            "grid_template_rows": null,
            "height": null,
            "justify_content": null,
            "justify_items": null,
            "left": null,
            "margin": null,
            "max_height": null,
            "max_width": null,
            "min_height": null,
            "min_width": null,
            "object_fit": null,
            "object_position": null,
            "order": null,
            "overflow": null,
            "overflow_x": null,
            "overflow_y": null,
            "padding": null,
            "right": null,
            "top": null,
            "visibility": null,
            "width": null
          }
        },
        "1e77c15346324ac08c1287a10b35d23e": {
          "model_module": "@jupyter-widgets/controls",
          "model_name": "SliderStyleModel",
          "model_module_version": "1.5.0",
          "state": {
            "_model_module": "@jupyter-widgets/controls",
            "_model_module_version": "1.5.0",
            "_model_name": "SliderStyleModel",
            "_view_count": null,
            "_view_module": "@jupyter-widgets/base",
            "_view_module_version": "1.2.0",
            "_view_name": "StyleView",
            "description_width": "",
            "handle_color": null
          }
        },
        "567acd36f3f44202bc8caf5c40afe8e2": {
          "model_module": "@jupyter-widgets/base",
          "model_name": "LayoutModel",
          "model_module_version": "1.2.0",
          "state": {
            "_model_module": "@jupyter-widgets/base",
            "_model_module_version": "1.2.0",
            "_model_name": "LayoutModel",
            "_view_count": null,
            "_view_module": "@jupyter-widgets/base",
            "_view_module_version": "1.2.0",
            "_view_name": "LayoutView",
            "align_content": null,
            "align_items": null,
            "align_self": null,
            "border": null,
            "bottom": null,
            "display": null,
            "flex": null,
            "flex_flow": null,
            "grid_area": null,
            "grid_auto_columns": null,
            "grid_auto_flow": null,
            "grid_auto_rows": null,
            "grid_column": null,
            "grid_gap": null,
            "grid_row": null,
            "grid_template_areas": null,
            "grid_template_columns": null,
            "grid_template_rows": null,
            "height": null,
            "justify_content": null,
            "justify_items": null,
            "left": null,
            "margin": null,
            "max_height": null,
            "max_width": null,
            "min_height": null,
            "min_width": null,
            "object_fit": null,
            "object_position": null,
            "order": null,
            "overflow": null,
            "overflow_x": null,
            "overflow_y": null,
            "padding": null,
            "right": null,
            "top": null,
            "visibility": null,
            "width": null
          }
        }
      }
    },
    "colab": {
      "provenance": []
    }
  },
  "nbformat": 4,
  "nbformat_minor": 0
}